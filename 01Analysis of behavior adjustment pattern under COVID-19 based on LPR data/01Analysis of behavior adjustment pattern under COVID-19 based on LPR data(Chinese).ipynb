{
 "cells": [
  {
   "cell_type": "code",
   "execution_count": 1,
   "metadata": {},
   "outputs": [
    {
     "name": "stderr",
     "output_type": "stream",
     "text": [
      "/home/wenbinyao/anaconda3/lib/python3.7/site-packages/libpysal/examples/remotes.py:26: UserWarning: Remote data sets not available. Check connection.\n",
      "  warnings.warn(\"Remote data sets not available. Check connection.\")\n",
      "/home/wenbinyao/anaconda3/lib/python3.7/site-packages/pysal/__init__.py:65: VisibleDeprecationWarning: PySAL's API will be changed on 2018-12-31. The last release made with this API is version 1.14.4. A preview of the next API version is provided in the `pysal` 2.0 prelease candidate. The API changes and a guide on how to change imports is provided at https://migrating.pysal.org\n",
      "  ), VisibleDeprecationWarning)\n"
     ]
    }
   ],
   "source": [
    "import pandas as pd\n",
    "import numpy as np\n",
    "import matplotlib.pyplot as plt\n",
    "import pymysql\n",
    "import copy\n",
    "import seaborn as sns\n",
    "import fiona\n",
    "import matplotlib as mpl\n",
    "import geopandas as gpd\n",
    "from shapely.geometry import Point,Polygon,shape\n",
    "from coord_convert.transform import wgs2gcj, wgs2bd, gcj2wgs, gcj2bd, bd2wgs, bd2gcj \n",
    "import math\n",
    "import imp\n",
    "import plot_map\n",
    "imp.reload(plot_map)\n",
    "import esda\n",
    "from geopandas import GeoDataFrame\n",
    "import libpysal as lps\n",
    "from shapely.geometry import Point\n",
    "import pysal\n",
    "%matplotlib inline\n",
    "import time\n",
    "from scipy.stats import chi2\n",
    "from matplotlib import patches\n",
    "import gc"
   ]
  },
  {
   "cell_type": "code",
   "execution_count": 2,
   "metadata": {},
   "outputs": [
    {
     "name": "stdout",
     "output_type": "stream",
     "text": [
      "数据库连接成功.\n"
     ]
    }
   ],
   "source": [
    "# 连接mysql数据库\n",
    "try:\n",
    "    conn = pymysql.connect(host='localhost', user='', password='', db='', charset='utf8')\n",
    "    print('数据库连接成功.')\n",
    "except:\n",
    "    print('数据库连接失败.')"
   ]
  },
  {
   "cell_type": "markdown",
   "metadata": {},
   "source": [
    "# 1.第一阶段获得每辆车的出行链\n",
    "\n",
    "此处出行链指车辆一天被检测器检测的的点位按照时间顺序排序。"
   ]
  },
  {
   "cell_type": "code",
   "execution_count": null,
   "metadata": {},
   "outputs": [],
   "source": [
    "def toSeq(ser):\n",
    "    # 将每一辆车每一次被检测的信息构成一个list，并存放到dataframe的一个字段里。\n",
    "    return [ser[2],ser[3],ser[4]]\n",
    "\n",
    "def merseq(df):\n",
    "    # 将一辆车所有的被检测信息均合并到一个list中，该list是一个二维数组，每一个元素是一个list，记录该车辆的时空出行链。\n",
    "#     print(df)\n",
    "#     print(\"----------------------------------------------------------------------------------------\")\n",
    "    return list(df['seq'])"
   ]
  },
  {
   "cell_type": "code",
   "execution_count": null,
   "metadata": {
    "scrolled": true
   },
   "outputs": [],
   "source": [
    "# 统计第一阶段各天每辆车每次trip的OD的时空信息\n",
    "conn.ping(reconnect=True)\n",
    "cur = conn.cursor()\n",
    "tablenames = ['20191217','20191218','20191220','20200106','20200110','20191223','20191224','20191225','20191226','20191227']\n",
    "FirStaOD = dict()  # 用一个字典来存储第一阶段各天的每辆车每次trip的OD的时空信息\n",
    "for table in tablenames:\n",
    "    sql = '''\n",
    "    select carnum1 , carnum2 , time , LNG , LAT from {}aj2 where (type = 2 or type = 52) and (lng is not null and lat is not null and \n",
    "    lng > 119 and lng < 121 and lat > 29 and lat < 30)\n",
    "    '''.format(table)\n",
    "    cur.execute(sql)\n",
    "    conn.commit()\n",
    "    tmptable = cur.fetchall()\n",
    "    tmptable = pd.DataFrame(tmptable)\n",
    "    tmptable.rename(columns = {0:'carnum1' , 1:'carnum2' , 2:'time' , 3:'LNG' , 4:'LAT'} , inplace = True)\n",
    "    tmptable['carnum'] = tmptable['carnum1'] + tmptable['carnum2']\n",
    "    # 得到车辆每一天的出行链\n",
    "    tmptable.sort_values(by = ['carnum' , 'time'] , ascending = (True , True) , inplace=True)\n",
    "    tmptable.reset_index(drop=True,inplace=True)\n",
    "    tmptable[['time']] = tmptable[['time']].applymap(lambda x : x[11:13])\n",
    "    tmptable['seq']=tmptable.apply(toSeq , axis=1)\n",
    "    tmptable = tmptable.groupby(['carnum']).apply(merseq)\n",
    "    tmptable = pd.DataFrame(tmptable)\n",
    "    tmptable.reset_index(inplace = True)\n",
    "    tmptable.rename(columns={0:table},inplace = True)\n",
    "    FirStaOD[table] = tmptable\n",
    "    del tmptable\n",
    "    gc.collect()\n",
    "    print(table , \" has query successfully!\")\n",
    "cur.close()"
   ]
  },
  {
   "cell_type": "code",
   "execution_count": null,
   "metadata": {
    "scrolled": true
   },
   "outputs": [],
   "source": [
    "FirStaOD['20191227'].head(2)"
   ]
  },
  {
   "cell_type": "code",
   "execution_count": null,
   "metadata": {
    "scrolled": false
   },
   "outputs": [],
   "source": [
    "# 把第一阶段各天的sequence合并到一张dataframe中去\n",
    "FirStaTab=FirStaOD['20191217']\n",
    "tablenames = ['20191218','20191220','20200106','20200110','20191223','20191224','20191225','20191226','20191227']\n",
    "for table in tablenames:\n",
    "    tmptable = FirStaOD[table]\n",
    "    FirStaTab = pd.merge(FirStaTab,tmptable,how='outer',on='carnum')\n",
    "\n",
    "# 将FirStaOD释放掉\n",
    "del FirStaOD\n",
    "gc.collect()\n",
    "\n",
    "# 把出现天数少于5天的车辆删除，因为我取5天为阈值，support大于等于5方才认为频繁出行模式，因此少于5天的车不可能有频繁出行模式。\n",
    "# 该步骤主要为了减少计算量和存储量\n",
    "def judgedel(ser):\n",
    "    # 判断该行是否需要删除\n",
    "    if len(ser[ser.isnull()]) > 5:\n",
    "        return 1\n",
    "    else:\n",
    "        return 0\n",
    "\n",
    "FirStaTab['tag'] = FirStaTab.apply(judgedel , axis = 1)\n",
    "FirStaTab = FirStaTab[FirStaTab['tag'] == 0]\n",
    "FirStaTab.drop(columns=['tag'],inplace=True)\n",
    "FirStaTab.reset_index(drop=True,inplace=True)\n",
    "FirStaTab.head(2)"
   ]
  },
  {
   "cell_type": "markdown",
   "metadata": {},
   "source": [
    "# 2.第一阶段frequent sequential activity pattern mining"
   ]
  },
  {
   "cell_type": "code",
   "execution_count": null,
   "metadata": {},
   "outputs": [],
   "source": [
    "'''\n",
    "本cell是用prefix span algorithm进行frequent sequence activity pattern mining的算法实现，\n",
    "并且对两个item是否相同的定义做了修改，只要两个item时间绝对值差1以内，空间直线距离在1km以内，则都认为是相同的item。\n",
    "算法对空间和时间复杂度考虑较少，因为本研究用该算法挖掘出一个人的在一段时间的frequent sequence activity pattern mining，\n",
    "因此对于每个人来说数据量都极少。\n",
    "算法已经经过若干测试均是正确的，该算法将sequence长度为1的pattern删除，仅保留长度大于等于2的pattern，\n",
    "因为频繁模式挖掘过程中对出行链长度过长的出行者做了出行链压缩，此时早高峰出行可能仅保留为一个点A，晚高峰出行仅保留一个点B，\n",
    "即长度为2可能为{A,B}的形式，这可能是{home->work,work->home}的形式，而长度为1则出行信息过少，直接删除。\n",
    "'''\n",
    "# 定义通过经纬度计算直线距离的函数\n",
    "from math import radians, cos, sin, asin, sqrt\n",
    "def geodistance(lng1,lat1,lng2,lat2):\n",
    "    if lng1 == None or lng2 == None or lat1 == None or lat2 == None:\n",
    "        return 999999\n",
    "    elif (lng1 < 119 or lng1 > 121) or (lng2 < 119 or lng2 > 121) or (lat1 < 29 or lat1 > 30) or (lat2 < 29 or lat2 > 30):\n",
    "        return 999999\n",
    "    lng1 = float(lng1) ; lng2 = float(lng2) ; lat1 = float(lat1) ; lat2 = float(lat2)\n",
    "    lng1,lat1,lng2,lat2 = map(radians,[lng1,lat1,lng2,lat2])\n",
    "    dlon = lng2-lng1\n",
    "    dlat = lat2-lat1\n",
    "    a = sin(dlat/2)**2 + cos(lat1) * cos(lat2) * sin(dlon/2)**2\n",
    "    distance = 2* asin(sqrt(a))*6371*1000\n",
    "    distance = round(distance/1000,3)\n",
    "    return distance\n",
    "\n",
    "def issame(l1,l2):\n",
    "    timetag=0 ; spacetag=0\n",
    "    if (abs(int(l1[0]) - int(l2[0])) <= 1) :\n",
    "        timetag=1\n",
    "    if (geodistance(l1[1],l1[2],l2[1],l2[2])<=1) :\n",
    "        spacetag=1\n",
    "    if (timetag + spacetag) == 2:\n",
    "        return True\n",
    "    else: \n",
    "        return False\n",
    "\n",
    "# def issame(l1,l2):\n",
    "#     写代码做case时的判断item是否相同的函数\n",
    "#     timetag=0 ; spacetag=0\n",
    "#     if abs(int(l1[0]) - int(l2[0])) <= 1 :\n",
    "#         timetag=1\n",
    "#     if abs((l1[1]) - int(l2[1])) <= 1 and abs(int(l1[2]) - int(l2[2])) <= 1:\n",
    "#         spacetag=1\n",
    "#     if (timetag + spacetag) == 2:\n",
    "#         return True\n",
    "#     else: \n",
    "#         return False\n",
    "\n",
    "def calsup(D ,i,j):\n",
    "    sup=1  # 初始化D[i][j]的support\n",
    "    e = D[i][j]\n",
    "    postfix = []  # 初始化后缀数据库，建立D[i][j]的后缀数据库\n",
    "    for indexi in range(len(D)):\n",
    "        if indexi == i:\n",
    "            pass\n",
    "        else:\n",
    "            for indexj in range(len(D[indexi])):\n",
    "                if issame(e , D[indexi][indexj]):\n",
    "                    sup += 1\n",
    "                    postfix.append((indexi,indexj))\n",
    "                    break\n",
    "                else:\n",
    "                    pass\n",
    "    return sup,postfix\n",
    "\n",
    "def calsupkb2(D,i,j,postfix):\n",
    "    # D[i][j]是需要添加在频繁k-1项集后面的元素\n",
    "    # postfix是频繁k-1项的后缀投影库\n",
    "    sup=1  # 初始化D[i][j]的support\n",
    "    e = D[i][j]\n",
    "    postfix2 = []  # 初始化后缀数据库，建立D[i][j]的后缀数据库\n",
    "    for indexi in range(len(postfix)):\n",
    "        postindex=postfix[indexi]\n",
    "        if postindex[1] >= (len(D[postindex[0]])-1):\n",
    "            pass\n",
    "        else:\n",
    "            for indexj in range(postindex[1]+1 , len(D[postindex[0]])):\n",
    "                if issame(e , D[postindex[0]][indexj]):\n",
    "                    sup+=1\n",
    "                    postfix2.append((postindex[0],indexj))\n",
    "                    break\n",
    "                else:\n",
    "                    pass\n",
    "    \n",
    "    return sup,postfix2\n",
    "\n",
    "def rmdup(freqseq):\n",
    "    # 将得到的频繁项集中重复的以及长度仅为1的元素去除\n",
    "    # 去除长度为1的pattern\n",
    "    needdelind = []\n",
    "    for i in range(len(freqseq)):\n",
    "        if len(freqseq[i][0:-3]) < 2:\n",
    "            needdelind.append(i)\n",
    "    # 将长度小于2的项删除\n",
    "    for i in range(len(needdelind)):\n",
    "        del freqseq[needdelind[len(needdelind)-i-1]]\n",
    "    \n",
    "    # 重复的pattern仅保留一项\n",
    "    freqlen = len(freqseq)\n",
    "    needdelind = []\n",
    "    for i in range(freqlen):\n",
    "        for j in range(0,i):\n",
    "            if freqseq[i][0:-3] == freqseq[j][0:-3]:\n",
    "                needdelind.append(i)\n",
    "                break\n",
    "    for i in range(len(needdelind)):\n",
    "        del freqseq[needdelind[len(needdelind)-i-1]]\n",
    "    \n",
    "    return freqseq\n",
    "\n",
    "def prefix_main(E , min_sup):\n",
    "    # E为sequence矩阵，每一行是一个sequence\n",
    "    # min_sup是最小支持度\n",
    "    '''\n",
    "    输入case：\n",
    "    p1 = [['07',1,1], \n",
    "          ['08',3,3],\n",
    "          ['16',4,4,],\n",
    "          ['17',4,4,]]\n",
    "    p2 = [['07',1,1], \n",
    "          ['08',3,3],\n",
    "          ['16',4,4,],\n",
    "          ['17',4,4,]]\n",
    "    p3 = [['07',1,1], \n",
    "          ['08',3,3],\n",
    "          ['16',4,4,],\n",
    "          ['17',4,4,]]\n",
    "\n",
    "    E=[p1,p2,p3] \n",
    "    prefix_main(E , min_sup=3)\n",
    "    \n",
    "    E如上图所示，其中真实数据需要将1,1,3,3,4,4等换为对应的经纬度\n",
    "    输出case：\n",
    "    [[['07', 1, 1], ['08', 3, 3], ['16', 4, 4], (0, 2), 3, [(1, 2), (2, 2)]],\n",
    "     [['07', 1, 1], ['08', 3, 3], ['17', 4, 4], (0, 3), 3, [(1, 2), (2, 2)]],\n",
    "     [['07', 1, 1], ['16', 4, 4], ['17', 4, 4], (0, 3), 3, [(1, 3), (2, 3)]],\n",
    "     [['08', 3, 3], ['16', 4, 4], ['17', 4, 4], (0, 3), 3, [(1, 3), (2, 3)]],\n",
    "     [['07', 1, 1],\n",
    "      ['08', 3, 3],\n",
    "      ['16', 4, 4],\n",
    "      ['17', 4, 4],\n",
    "      (0, 3),\n",
    "      3,\n",
    "      [(1, 3), (2, 3)]]]\n",
    "    输出是一个list，list中每个元素代表一个pattern，如\n",
    "    [['07', 1, 1], ['08', 3, 3], ['16', 4, 4], (0, 2), 3, [(1, 2), (2, 2)]]就是一种pattern，\n",
    "    其中['07', 1, 1], ['08', 3, 3], ['16', 4, 4]代表该pattern的详细信息，\n",
    "      (0,2)代表该pattern的最后一个item即['16', 4, 4]位于输入的（0,2）位置即E[0][2]；\n",
    "      3代表该pattern的support为3；\n",
    "      [(1, 2), (2, 2)]]代表除了自身外，support的另外两个贡献的最后一个sequence在输入中的位置，\n",
    "      即后缀投影数据库最后一个元素在输入中的位置。\n",
    "    '''\n",
    "    \n",
    "    freqresult=[] # 存储最终的频繁1项集，频繁2项集，频繁3项集···\n",
    "    freqk_1 = [] # 存储频繁k-1项集\n",
    "    # 生成初始的频繁1项集\n",
    "    for i in range(len(E)):\n",
    "        for j in range(len(E[i])):\n",
    "            sup , postfix = calsup(E,i,j)  # 计算E[i][j]的support\n",
    "            if sup >= min_sup:\n",
    "                freqk_1.append([E[i][j],(i,j),sup,postfix])  # 如果是频繁项集，就以[项,支持度,(该频繁项的最后一个元素所在下标)]的形式添加到freqk中去\n",
    "    freqresult.extend(freqk_1)\n",
    "#     print(len(freqresult))\n",
    "    # 生成频繁k项集\n",
    "    k=2  # 已获得频繁k-1项集\n",
    "    while True:\n",
    "#         print(\"已经生成频繁{0}项集\".format(k))\n",
    "        freqk = []  #存放频繁k项集\n",
    "        for indexi in range(len(freqk_1)):\n",
    "            stmp = freqk_1[indexi]\n",
    "            if stmp[-3][1] >= (len(E[stmp[-3][0]])-1) :\n",
    "                pass\n",
    "            else:\n",
    "                for indexm in range(stmp[-3][1]+1 , len(E[stmp[-3][0]])):\n",
    "    #                 stmp2 = E[stmp[-3][0]][indexm]  # 得到想要添加在频繁k-1项集后的元素\n",
    "                    sup , postfix = calsupkb2(E,stmp[-3][0],indexm,stmp[-1])\n",
    "                    if sup >= min_sup:\n",
    "                        freqk.append(stmp[0:-3] + [E[stmp[-3][0]][indexm],(stmp[-3][0],indexm),sup,postfix])\n",
    "#         print('频繁k项集个数为：',len(freqk))\n",
    "        if len(freqk) == 0:\n",
    "            break\n",
    "        else:\n",
    "            freqresult.extend(freqk)\n",
    "            freqk_1 = copy.deepcopy(freqk)\n",
    "            k+=1\n",
    "    freqresult = rmdup(freqresult)\n",
    "    return freqresult"
   ]
  },
  {
   "cell_type": "markdown",
   "metadata": {},
   "source": [
    "频繁模式挖掘算法复杂度过高，运行了5个小时，连一万行都没有处理完，因此删除掉无用数据，在进行频繁模式的挖掘。\n",
    "\n",
    "进一步分析了运行速度这么慢的原因，主要是因为prefix_main函数的复杂度会随着出行链的长度出现阶层级上升的情况，因此如果有很长的出行链，如超过20个点位，则7项集的频繁模式就可能需要遍历几十万次。这边用一个实例做一个说明，假设有一个出行者，第一阶段5天都有出行，且每天的出行链均相同，长度为20，则一项集模式有100个，二项集模式有$C_{20}^2*5=950$个，三项集模式有$C_{20}^3*5=5700$个，四项集模式为$C_{20}^4*5=24225$个，依次类推，可以知道7项集有387600个，而且随着出行链长度增长，数量级上升很快，这使得出行链长度长，并且出行者出行规律时无法得到结果，实际过程中，一个出行链长度为25的车辆，5天均出行，出行行为很规律，运行了10个小时没有给出结果。因此针对此问题，需要对出行者的出行链进行压缩，以使得该算法可以在指定时间得到结果。\n",
    "\n",
    "出行链压缩算法方法如下：出行者一天的行程一小时仅保留support最大的那个点位，即一小时仅保留一个点位信息，如此一来一个出行者一天出行链最长仅24个点位。代码编写思路为：首先，遍历第一天的出行链，若相邻两个点位是处于同一个小时被检测到的，则保留两个点位中support大的那个，删除support小的那个点位。\n",
    "\n",
    "并不是对所有出行者都做出行链压缩，只有当出行者的出行链过长时才做出行链压缩，具体来说，当出行者至少有min_sup天出行链长度大于等于10时，才做出行链压缩，因此出行者出行链最长也仅仅为9，此时可以控制prefix span的遍历次数最多时为$C_{9}^4*5=630$次，可以接受。"
   ]
  },
  {
   "cell_type": "code",
   "execution_count": null,
   "metadata": {},
   "outputs": [],
   "source": [
    "def rmdata(ser , min_sup=5):\n",
    "    # 对数据进行预处理及压缩，包括：\n",
    "    # 1.一周出行少于3天的车辆标记为0，后续直接删除；\n",
    "    # 2.一周出行大于等于3天的车辆需要进行压缩，出行者一天的行程一小时仅保留support最大的那个点位，即一小时仅保留一个点位信息，\n",
    "    # 如此一来一个出行者一天出行链最长仅24个点位。\n",
    "    # 3.但是对于一些出行行为类似于出租车的车辆，经过压缩处理后，可能依然5天均有出行，且出行链长度大于16，\n",
    "    # 这类车辆会造成prefix span算法爆炸，对于这类车辆，采取手段为保留前5个点位和最后4个点位，舍弃中间点位，因为首末点位对车辆出行行为刻画更为有意义。\n",
    "#     if ser.name%10000 == 0:\n",
    "#         print(\"已经处理到第{0}行.\".format(ser.name))\n",
    "#     ser = ser.dropna()\n",
    "#     ser = list(ser)\n",
    "#     ser = ser[1:]\n",
    "    if len(ser) < min_sup:\n",
    "        return 0   # 0标签的含义是删除掉这个出行者\n",
    "    else:\n",
    "        for i in range(len(ser)):\n",
    "            j=0\n",
    "            while j < len(ser[i]):\n",
    "                sup , _ = calsup(ser ,i,j)\n",
    "                if sup < min_sup:\n",
    "                    del ser[i][j]\n",
    "                else:\n",
    "                    if j == 0 :\n",
    "                        j+=1\n",
    "                    else:\n",
    "                        if ser[i][j][0] != ser[i][j-1][0]:  # 如果后一个点和前一个点不在同一个小时，则遍历后一个元素；\n",
    "                            j+=1\n",
    "                        else:\n",
    "                            sup , _ = calsup(ser ,i,j) ; sup_1,_=calsup(ser ,i,j-1)\n",
    "                            if sup <= sup_1:  # 相邻元素中删除掉sup较小的那一个\n",
    "                                del ser[i][j]\n",
    "                            else:\n",
    "                                del ser[i][j-1]\n",
    "        \n",
    "        tag1=0 # 标记有多少天的出行链长度大于等于10\n",
    "        tag2=0 # 标记有多少天的出行链长度大于等于2\n",
    "        for i in range(len(ser)):\n",
    "            if len(ser[i]) >= 10:\n",
    "                tag1 += 1\n",
    "            if len(ser[i])>=2:\n",
    "                tag2+=1\n",
    "        if tag1>=min_sup:\n",
    "            # 对于长度大于等于10的出行链，仅保留前5个点和最后4个点\n",
    "            for i in range(len(ser)):\n",
    "                if len(ser[i]) >= 10:\n",
    "                    while len(ser[i]) >= 10:\n",
    "                        del ser[i][5]\n",
    "        if tag2 < min_sup:\n",
    "            return 0\n",
    "        \n",
    "        return 1  # 1标签意味着保留该出行者"
   ]
  },
  {
   "cell_type": "code",
   "execution_count": null,
   "metadata": {},
   "outputs": [],
   "source": [
    "def getfreqpattern(ser,min_sup=5):\n",
    "    # 对每一行使用这个func时会直接改变原始dataframe中每一行的元素，因为在本研究中dataframe中存储的是list的引用，因此虽然\n",
    "    # 深拷贝了dataframe，dataframe中的元素依然是list的引用，对list里的元素处理时依然处理的是原始的list中的数据，\n",
    "    # 因此会直接改变原始dataframe中list中的元素,详细原因见我的博客：https://blog.csdn.net/qq_39805362/article/details/113060958.\n",
    "#     ser = ser_copy.copy(deep=True)\n",
    "    # 得到traveler的frequent pattern\n",
    "    if ser.name%5000 == 0:\n",
    "        time_end = time.time()\n",
    "        consumedtime = time_end - time_begin\n",
    "        print(\"已经处理到第{0}行,共耗时{1}分钟.\".format(ser.name , round(consumedtime/60 , 3)))\n",
    "\n",
    "#     time_end = time.time()\n",
    "#     consumedtime = time_end - time_begin\n",
    "#     print(\"已经处理到第{0}行,共耗时{1}分钟.\".format(ser.name , round(consumedtime/60 , 3)))\n",
    "    \n",
    "    ser = ser.dropna()\n",
    "    ser = list(ser)\n",
    "    ser = ser[1:]\n",
    "    if len(ser) < min_sup:\n",
    "        return []\n",
    "    \n",
    "    tag1=0 # 标记有多少天的出行链长度大于等于10\n",
    "    tag2=0 # 标记有多少天的出行链长度大于等于2\n",
    "    totlen = 0 # 记录该阶段被检测总次数\n",
    "    for i in range(len(ser)):\n",
    "        totlen = totlen + len(ser[i])\n",
    "        if len(ser[i]) >= 10:\n",
    "            tag1 += 1\n",
    "        if len(ser[i])>=2:\n",
    "            tag2+=1\n",
    "    if tag1>=min_sup:\n",
    "        # 如果有大于min_sup天出行链长度大于等于10，则对出行链进行压缩\n",
    "        tmp = rmdata(ser , min_sup=min_sup)\n",
    "        if tmp == 0:\n",
    "            return []\n",
    "    elif totlen >= 10 * len(ser):\n",
    "        # 虽然少于min_sup天出行链长度大于等于10，但是有可能出现某一天出行链长度特别长，如20，而其他天出行链长度均只有9的情况出现\n",
    "        # 在这种情况下，依然会出现阶层级爆炸的情况，因此也需要做出行链压缩.\n",
    "        tmp = rmdata(ser , min_sup=min_sup)\n",
    "        if tmp == 0:\n",
    "            return []\n",
    "    if tag2 < min_sup:\n",
    "        return []\n",
    "    \n",
    "    # 注释部分的作用是：如果先保存前面跑出的每个人一周的出行链数据到本地，则dataframe中存储的list格式的元素会变成字符串格式，\n",
    "    # 此时，直接运行会出bug，因此便需要利用下面的注释部分重新将dataframe中存储的字符串格式的list转化为真正的list格式数据。\n",
    "#     multidaytrip=[]  # 存储一个人多日的trip chain\n",
    "#     for i in range(len(ser)):\n",
    "#         tmp = ser[i].split(',')\n",
    "#         tripchain = []  # 存储某个人一天的trip chain，形式是二维list的形式\n",
    "#         index = 0\n",
    "#         while index <= len(tmp) - 1:\n",
    "#             if index % 6 == 0:\n",
    "#                 tmp_list=[]  # 存储某一个人一次trip的OD信息\n",
    "#                 ele = tmp[index]\n",
    "#                 tmp_list.append(ele[3:-1])\n",
    "#             elif index%6==1 or index%6==2 or  index%6==4:\n",
    "#                 tmp_list.append(float(tmp[index]))\n",
    "#             elif index%6==3:\n",
    "#                 tmp_list.append(tmp[index][2:-1])\n",
    "#             elif index%6==5:\n",
    "#                 ele = tmp[index]\n",
    "#                 tmp_list.append(float(ele[0:-2]))\n",
    "#                 tripchain.append(tmp_list)\n",
    "#             index += 1\n",
    "# #         print(tripchain)\n",
    "#         multidaytrip.append(tripchain)\n",
    "\n",
    "    freqseq = prefix_main(ser , min_sup)\n",
    "    return freqseq"
   ]
  },
  {
   "cell_type": "code",
   "execution_count": null,
   "metadata": {
    "scrolled": true
   },
   "outputs": [],
   "source": [
    "# 验证代码的正确性\n",
    "# 用自己的一个case测试一下代码正确性\n",
    "time_begin = time.time()\n",
    "case = copy.deepcopy(FirStaTab.iloc[0:3,:])\n",
    "case.loc[3] = ['我增加的一行',\n",
    "           [['18', 119.928, 29.2736], ['19', 119.92, 29.2649], ['21', 119.928, 29.2732]],\n",
    "           [['18', 119.928, 29.2736], ['19', 119.92, 29.2649], ['21', 119.928, 29.2732]],\n",
    "           [['18', 119.928, 29.2736], ['19', 119.92, 29.2649], ['21', 119.928, 29.2732]],\n",
    "           [['18', 119.928, 29.2736], ['19', 119.92, 29.2649], ['21', 119.928, 29.2732]],\n",
    "           [['18', 119.928, 29.2736], ['19', 119.92, 29.2649], ['21', 119.928, 29.2732]],\n",
    "            None,None,None,None,None]\n",
    "res = case.apply(getfreqpattern,axis=1)\n",
    "res"
   ]
  },
  {
   "cell_type": "code",
   "execution_count": null,
   "metadata": {
    "scrolled": true
   },
   "outputs": [],
   "source": [
    "res[3]"
   ]
  },
  {
   "cell_type": "code",
   "execution_count": null,
   "metadata": {
    "scrolled": true
   },
   "outputs": [],
   "source": [
    "# 再来一个出行链超长的出行者做一个case\n",
    "# 检验上面cell写的数据压缩算法的正确性\n",
    "case = FirStaTab.iloc[0:3 , :]\n",
    "case.loc[3]=['我增加的一行',\n",
    "           [['01', 119.928, 29.2736],['02', 119.928, 29.2736],['03', 119.928, 29.2736],['04', 119.928, 29.2736],['05', 119.928, 29.2736],['06', 119.928, 29.2736],['07', 119.928, 29.2736],['08', 119.928, 29.2736],['09', 119.928, 29.2736],['10', 119.928, 29.2736],['11', 119.928, 29.2736],['12', 119.928, 29.2736],['13', 119.928, 29.2736],['14', 119.928, 29.2736],['15', 119.928, 29.2736],['16', 119.928, 29.2736],['17', 119.928, 29.2736],['18', 119.928, 29.2736], ['19', 119.92, 29.2649], ['19', 10.92, 29.2649], ['19', 119.92, 29.2649], ['19', 119.92, 29.2649], ['21', 119.928, 29.2732]],\n",
    "           [['01', 119.928, 29.2736],['02', 119.928, 29.2736],['03', 119.928, 29.2736],['04', 119.928, 29.2736],['05', 119.928, 29.2736],['06', 119.928, 29.2736],['07', 119.928, 29.2736],['08', 119.928, 29.2736],['09', 119.928, 29.2736],['10', 119.928, 29.2736],['11', 119.928, 29.2736],['12', 119.928, 29.2736],['13', 119.928, 29.2736],['14', 119.928, 29.2736],['15', 119.928, 29.2736],['16', 119.928, 29.2736],['17', 119.928, 29.2736],['18', 119.928, 29.2736], ['19', 119.92, 29.2649], ['19', 10.92, 29.2649], ['19', 119.92, 29.2649], ['19', 119.92, 29.2649], ['21', 119.928, 29.2732]],\n",
    "           [['01', 119.928, 29.2736],['02', 119.928, 29.2736],['03', 119.928, 29.2736],['04', 119.928, 29.2736],['05', 119.928, 29.2736],['06', 119.928, 29.2736],['07', 119.928, 29.2736],['08', 119.928, 29.2736],['09', 119.928, 29.2736],['10', 119.928, 29.2736],['11', 119.928, 29.2736],['12', 119.928, 29.2736],['13', 119.928, 29.2736],['14', 119.928, 29.2736],['15', 119.928, 29.2736],['16', 119.928, 29.2736],['17', 119.928, 29.2736],['18', 119.928, 29.2736], ['19', 119.92, 29.2649], ['19', 10.92, 29.2649], ['19', 119.92, 29.2649], ['19', 119.92, 29.2649], ['21', 119.928, 29.2732]],\n",
    "           [['01', 119.928, 29.2736],['02', 119.928, 29.2736],['03', 119.928, 29.2736],['04', 119.928, 29.2736],['05', 119.928, 29.2736],['06', 119.928, 29.2736],['07', 119.928, 29.2736],['08', 119.928, 29.2736],['09', 119.928, 29.2736],['10', 119.928, 29.2736],['11', 119.928, 29.2736],['12', 119.928, 29.2736],['13', 119.928, 29.2736],['14', 119.928, 29.2736],['15', 119.928, 29.2736],['16', 119.928, 29.2736],['17', 119.928, 29.2736],['18', 119.928, 29.2736], ['19', 119.92, 29.2649], ['19', 10.92, 29.2649], ['19', 119.92, 29.2649], ['19', 119.92, 29.2649], ['21', 119.928, 29.2732]],\n",
    "           [['01', 119.928, 29.2736],['02', 119.928, 29.2736],['03', 119.928, 29.2736],['04', 119.928, 29.2736],['05', 119.928, 29.2736],['06', 119.928, 29.2736],['07', 119.928, 29.2736],['08', 119.928, 29.2736],['09', 119.928, 29.2736],['10', 119.928, 29.2736],['11', 119.928, 29.2736],['12', 119.928, 29.2736],['13', 119.928, 29.2736],['14', 119.928, 29.2736],['15', 119.928, 29.2736],['16', 119.928, 29.2736],['17', 119.928, 29.2736],['18', 119.928, 29.2736], ['19', 119.92, 29.2649], ['19', 10.92, 29.2649], ['19', 119.92, 29.2649], ['19', 119.92, 29.2649], ['21', 119.928, 29.2732]],\n",
    "            None,None,None,None,None]\n",
    "res = case.apply(getfreqpattern,axis=1)\n",
    "res"
   ]
  },
  {
   "cell_type": "code",
   "execution_count": null,
   "metadata": {
    "scrolled": true
   },
   "outputs": [],
   "source": [
    "res[3][-1]"
   ]
  },
  {
   "cell_type": "code",
   "execution_count": null,
   "metadata": {
    "scrolled": true
   },
   "outputs": [],
   "source": [
    "time_begin = time.time()\n",
    "FirStaTab['freseq'] = FirStaTab.apply(getfreqpattern,axis=1)\n",
    "FirStaTab.head(2)"
   ]
  },
  {
   "cell_type": "code",
   "execution_count": null,
   "metadata": {
    "scrolled": true
   },
   "outputs": [],
   "source": [
    "# 将得不到frequent sequence activity pattern 的人都去除掉\n",
    "def keepornot(x):\n",
    "    if len(x) == 0:\n",
    "        return None\n",
    "    else:\n",
    "        return x\n",
    "FirStaTab['freseq'] = FirStaTab[['freseq']].applymap(keepornot)\n",
    "FirStaTab = FirStaTab[FirStaTab['freseq'].notnull()]\n",
    "FirStaTab.head(5)"
   ]
  },
  {
   "cell_type": "markdown",
   "metadata": {},
   "source": [
    "# 3 第一阶段阶段内regularity计算"
   ]
  },
  {
   "cell_type": "code",
   "execution_count": null,
   "metadata": {},
   "outputs": [],
   "source": [
    "def getLCS(s1,s2):\n",
    "    # 获得最长s1，s2最长公共子串的长度\n",
    "    len1 = len(s1) ; len2 = len(s2)\n",
    "    if len1 >= len2:\n",
    "        lcs = []  # 存储最长公共子串\n",
    "        startindex = 0  # s2中开始检索有无该item的下标起始位置\n",
    "        for i in range(len1):\n",
    "            tmp = s1[i]\n",
    "            # 去s2中找有没有tmp\n",
    "            for j in range(startindex , len2):\n",
    "                if issame(s2[j],tmp):\n",
    "                    lcs.append(tmp)\n",
    "                    startindex = j+1\n",
    "                    break\n",
    "        return len(lcs)\n",
    "    else:\n",
    "        lcs = []  # 存储最长公共子串\n",
    "        startindex = 0\n",
    "        for i in range(len2):\n",
    "            tmp=s2[i]\n",
    "            for j in range(startindex,len1):\n",
    "                if issame(s1[j],tmp):\n",
    "                    lcs.append(tmp)\n",
    "                    startindex = j+1\n",
    "                    break\n",
    "        return len(lcs)\n",
    "   \n",
    "# test case\n",
    "getLCS([['07', 120.086, 29.3184], ['19', 120.058, 29.3415]] ,\n",
    "       [['06', 120.091, 29.3107], ['19', 130.058, 29.3415]] )  "
   ]
  },
  {
   "cell_type": "code",
   "execution_count": null,
   "metadata": {},
   "outputs": [],
   "source": [
    "def pattern_simi(p1,p2):\n",
    "    # 计算pattern1和pattern2的similarity\n",
    "    lenp1 = len(p1)\n",
    "    lenp2 = len(p2)\n",
    "    lenLCS = getLCS(p1,p2)\n",
    "    patsimi = (lenLCS+lenLCS) / (lenp1 + lenp2)\n",
    "    return patsimi"
   ]
  },
  {
   "cell_type": "code",
   "execution_count": null,
   "metadata": {
    "scrolled": true
   },
   "outputs": [],
   "source": [
    "def intraweight(ser):\n",
    "    # 计算阶段内的intra person regularity\n",
    "    ser = ser.dropna() # 删除空值\n",
    "    ser = list(ser)\n",
    "    ser = ser[1:-1]\n",
    "    weig = 0\n",
    "    total_simi = 0\n",
    "    for i in range(len(ser)):\n",
    "        for j in range(len(ser)):\n",
    "            if len(ser[i]) != 0 and len(ser[j])!=0:\n",
    "                tmp = pattern_simi(ser[i],ser[j])\n",
    "                total_simi = total_simi+tmp\n",
    "                weig += 1\n",
    "    return (total_simi / weig)\n",
    "\n",
    "# a test case\n",
    "# sercase = FirStaTab.iloc[3,:]\n",
    "# print(sercase)\n",
    "# intraweight(sercase)"
   ]
  },
  {
   "cell_type": "markdown",
   "metadata": {},
   "source": [
    "**第一阶段内出行者regularity计算，并存为regu字段**"
   ]
  },
  {
   "cell_type": "code",
   "execution_count": null,
   "metadata": {
    "scrolled": true
   },
   "outputs": [],
   "source": [
    "FirStaTab['regu'] = FirStaTab.apply(intraweight , axis = 1)\n",
    "FirStaTab.head(3)"
   ]
  },
  {
   "cell_type": "code",
   "execution_count": null,
   "metadata": {},
   "outputs": [],
   "source": [
    "FirStaTab = FirStaTab[['carnum','freseq','regu']]\n",
    "FirStaTab.head(2)"
   ]
  },
  {
   "cell_type": "code",
   "execution_count": null,
   "metadata": {},
   "outputs": [],
   "source": [
    "FirStaTab.to_csv('FirStaTab.csv',encoding = 'gbk',index=False)"
   ]
  },
  {
   "cell_type": "code",
   "execution_count": null,
   "metadata": {},
   "outputs": [],
   "source": [
    "len(FirStaTab)"
   ]
  },
  {
   "cell_type": "markdown",
   "metadata": {},
   "source": [
    "# 4.第二阶段trip挖掘,frequent sequence pattern mining,regularity,similarity计算"
   ]
  },
  {
   "cell_type": "code",
   "execution_count": null,
   "metadata": {},
   "outputs": [],
   "source": [
    "# 统计第二阶段各天每辆车每次trip的OD的时空信息\n",
    "conn.ping(reconnect=True)\n",
    "cur = conn.cursor()\n",
    "tablenames = ['20200210','20200211','20200212','20200213','20200214','20200217','20200218','20200219','20200220','20200221']\n",
    "SecStaOD = dict()  # 用一个字典来存储第二阶段各天的每辆车每次trip的OD的时空信息\n",
    "for table in tablenames:\n",
    "    sql = '''\n",
    "    select carnum1 , carnum2 , time , LNG , LAT from {}aj2 where (type = 2 or type = 52) and (lng is not null and lat is not null and \n",
    "    lng > 119 and lng < 121 and lat > 29 and lat < 30)\n",
    "    '''.format(table)\n",
    "    cur.execute(sql)\n",
    "    conn.commit()\n",
    "    tmptable = cur.fetchall()\n",
    "    tmptable = pd.DataFrame(tmptable)\n",
    "    tmptable.rename(columns = {0:'carnum1' , 1:'carnum2' , 2:'time' , 3:'LNG' , 4:'LAT'} , inplace = True)\n",
    "    tmptable['carnum'] = tmptable['carnum1'] + tmptable['carnum2']\n",
    "    # 得到车辆每一天的出行链\n",
    "    tmptable.sort_values(by = ['carnum' , 'time'] , ascending = (True , True) , inplace=True)\n",
    "    tmptable.reset_index(drop=True,inplace=True)\n",
    "    tmptable[['time']] = tmptable[['time']].applymap(lambda x : x[11:13])\n",
    "    tmptable['seq']=tmptable.apply(toSeq , axis=1)\n",
    "    tmptable = tmptable.groupby(['carnum']).apply(merseq)\n",
    "    tmptable = pd.DataFrame(tmptable)\n",
    "    tmptable.reset_index(inplace = True)\n",
    "    tmptable.rename(columns={0:table},inplace = True)\n",
    "    SecStaOD[table] = tmptable\n",
    "    del tmptable\n",
    "    gc.collect()\n",
    "    print(table , \" has query successfully!\")\n",
    "cur.close()"
   ]
  },
  {
   "cell_type": "code",
   "execution_count": null,
   "metadata": {},
   "outputs": [],
   "source": [
    "SecStaOD['20200210'].head(3)"
   ]
  },
  {
   "cell_type": "code",
   "execution_count": null,
   "metadata": {},
   "outputs": [],
   "source": [
    "# 把第一阶段各天的sequence合并到一张dataframe中去\n",
    "SecStaTab=SecStaOD['20200210']\n",
    "tablenames = ['20200211','20200212','20200213','20200214','20200217','20200218','20200219','20200220','20200221']\n",
    "for table in tablenames:\n",
    "    tmptable = SecStaOD[table]\n",
    "    SecStaTab = pd.merge(SecStaTab,tmptable,how='outer',on='carnum')\n",
    "\n",
    "# 将FirStaOD释放掉\n",
    "del SecStaOD\n",
    "gc.collect()\n",
    "\n",
    "# 把出现天数少于5天的车辆删除，因为我取5天为阈值，support大于等于5方才认为频繁出行模式，因此少于5天的车不可能有频繁出行模式。\n",
    "# 该步骤主要为了减少计算量和存储量\n",
    "def judgedel(ser):\n",
    "    # 判断该行是否需要删除\n",
    "    if len(ser[ser.isnull()]) > 5:\n",
    "        return 1\n",
    "    else:\n",
    "        return 0\n",
    "\n",
    "SecStaTab['tag'] = SecStaTab.apply(judgedel , axis = 1)\n",
    "SecStaTab = SecStaTab[SecStaTab['tag'] == 0]\n",
    "SecStaTab.drop(columns=['tag'],inplace=True)\n",
    "SecStaTab.reset_index(drop=True,inplace=True)\n",
    "SecStaTab.head(2)"
   ]
  },
  {
   "cell_type": "code",
   "execution_count": null,
   "metadata": {
    "scrolled": true
   },
   "outputs": [],
   "source": [
    "time_begin = time.time()\n",
    "SecStaTab['freseq'] = SecStaTab.apply(getfreqpattern,axis=1)\n",
    "SecStaTab.head(2)"
   ]
  },
  {
   "cell_type": "code",
   "execution_count": null,
   "metadata": {
    "scrolled": true
   },
   "outputs": [],
   "source": [
    "# 将得不到frequent sequence activity pattern 的人都去除掉\n",
    "def keepornot(x):\n",
    "    if len(x) == 0:\n",
    "        return None\n",
    "    else:\n",
    "        return x\n",
    "SecStaTab['freseq'] = SecStaTab[['freseq']].applymap(keepornot)\n",
    "SecStaTab = SecStaTab[SecStaTab['freseq'].notnull()]\n",
    "SecStaTab.head(2)"
   ]
  },
  {
   "cell_type": "code",
   "execution_count": null,
   "metadata": {
    "scrolled": true
   },
   "outputs": [],
   "source": [
    "# 第二阶段regularity地计算\n",
    "SecStaTab['regu'] = SecStaTab.apply(intraweight , axis = 1)\n",
    "SecStaTab.head(3)"
   ]
  },
  {
   "cell_type": "code",
   "execution_count": null,
   "metadata": {},
   "outputs": [],
   "source": [
    "SecStaTab = SecStaTab[['carnum','freseq','regu']]\n",
    "SecStaTab.head(2)"
   ]
  },
  {
   "cell_type": "code",
   "execution_count": null,
   "metadata": {},
   "outputs": [],
   "source": [
    "SecStaTab.to_csv('SecStaTab.csv',encoding = 'gbk',index=False)\n",
    "len(SecStaTab)"
   ]
  },
  {
   "cell_type": "markdown",
   "metadata": {},
   "source": [
    "# 5.第三阶段trip挖掘,frequent sequence pattern mining,regularity,similarity计算（原来的第三阶段不再运行，因为现在总共只需要划分为三个阶段，原第四阶段现在更改为第三阶段）"
   ]
  },
  {
   "cell_type": "code",
   "execution_count": null,
   "metadata": {},
   "outputs": [],
   "source": [
    "# # 统计第三阶段各天每辆车每次trip的OD的时空信息\n",
    "# conn.ping(reconnect=True)\n",
    "# cur = conn.cursor()\n",
    "# sql = '''\n",
    "#     select carnum1 , carnum2 , concat(carnum1 , carnum2) as carnum from smalocalizedvehicles\n",
    "#     '''\n",
    "# cur.execute(sql)\n",
    "# conn.commit()\n",
    "# localveh = cur.fetchall()\n",
    "# localveh = pd.DataFrame(localveh)\n",
    "# localveh.rename(columns = {0:'carnum1' , 1:'carnum2' , 2:'carnum'} , inplace = True)\n",
    "# tablenames = ['20200316','20200317','20200318','20200319','20200320']\n",
    "# ThiStaOD = dict()  # 用一个字典来存储第一阶段各天的每辆车每次trip的OD的时空信息\n",
    "# for table in tablenames:\n",
    "#     sql = '''\n",
    "#     select carnum1 , carnum2 , time , LNG , LAT from {}aj where (type = 2 or type = 52) and (lng is not null and lat is not null and \n",
    "#     lng > 119 and lng < 121 and lat > 29 and lat < 30)\n",
    "#     '''.format(table)\n",
    "#     cur.execute(sql)\n",
    "#     conn.commit()\n",
    "#     tmptable = cur.fetchall()\n",
    "#     tmptable = pd.DataFrame(tmptable)\n",
    "#     tmptable.rename(columns = {0:'carnum1' , 1:'carnum2' , 2:'time' , 3:'LNG' , 4:'LAT'} , inplace = True)\n",
    "#     tmptable = pd.merge(tmptable , localveh , how = 'inner' , on = ['carnum1' , 'carnum2'])\n",
    "    \n",
    "#     # 得到车辆每一天的出行链\n",
    "#     tmptable.sort_values(by = ['carnum' , 'time'] , ascending = (True , True) , inplace=True)\n",
    "#     tmptable.reset_index(drop=True,inplace=True)\n",
    "#     tmptable[['time']] = tmptable[['time']].applymap(lambda x : x[11:13])\n",
    "#     tmptable['seq']=tmptable.apply(toSeq , axis=1)\n",
    "#     tmptable = tmptable.groupby(['carnum']).apply(merseq)\n",
    "#     tmptable = pd.DataFrame(tmptable)\n",
    "#     tmptable.reset_index(inplace = True)\n",
    "#     tmptable.rename(columns={0:table},inplace = True)\n",
    "#     ThiStaOD[table] = tmptable\n",
    "#     print(table , \" has query successfully!\")\n",
    "# cur.close()"
   ]
  },
  {
   "cell_type": "code",
   "execution_count": null,
   "metadata": {},
   "outputs": [],
   "source": [
    "# ThiStaOD['20200316']"
   ]
  },
  {
   "cell_type": "code",
   "execution_count": null,
   "metadata": {
    "scrolled": true
   },
   "outputs": [],
   "source": [
    "# # 把第一阶段各天的sequence合并到一张dataframe中去\n",
    "# ThiStaTab=ThiStaOD['20200316']\n",
    "# tablenames = ['20200317','20200318','20200319','20200320']\n",
    "# for table in tablenames:\n",
    "#     tmptable = ThiStaOD[table]\n",
    "#     ThiStaTab = pd.merge(ThiStaTab,tmptable,how='outer',on='carnum')\n",
    "# ThiStaTab.head(5)"
   ]
  },
  {
   "cell_type": "code",
   "execution_count": null,
   "metadata": {
    "scrolled": true
   },
   "outputs": [],
   "source": [
    "# time_begin = time.time()\n",
    "# ThiStaTab['freseq'] = ThiStaTab.apply(getfreqpattern,axis=1)\n",
    "# ThiStaTab.head(2)"
   ]
  },
  {
   "cell_type": "code",
   "execution_count": null,
   "metadata": {
    "scrolled": true
   },
   "outputs": [],
   "source": [
    "# # 将得不到frequent sequence activity pattern 的人都去除掉\n",
    "# def keepornot(x):\n",
    "#     if len(x) == 0:\n",
    "#         return None\n",
    "#     else:\n",
    "#         return x\n",
    "# ThiStaTab['freseq'] = ThiStaTab[['freseq']].applymap(keepornot)\n",
    "# ThiStaTab = ThiStaTab[ThiStaTab['freseq'].notnull()]\n",
    "# ThiStaTab.head(5)"
   ]
  },
  {
   "cell_type": "code",
   "execution_count": null,
   "metadata": {},
   "outputs": [],
   "source": [
    "# len(ThiStaTab)"
   ]
  },
  {
   "cell_type": "code",
   "execution_count": null,
   "metadata": {},
   "outputs": [],
   "source": [
    "# # 第三阶段regularity地计算\n",
    "# ThiStaTab['regu'] = ThiStaTab.apply(intraweight , axis = 1)\n",
    "# ThiStaTab.head(3)"
   ]
  },
  {
   "cell_type": "code",
   "execution_count": null,
   "metadata": {},
   "outputs": [],
   "source": [
    "# ThiStaTab = ThiStaTab[['carnum','freseq','regu']]\n",
    "# ThiStaTab.head(2)"
   ]
  },
  {
   "cell_type": "code",
   "execution_count": null,
   "metadata": {},
   "outputs": [],
   "source": [
    "# # 释放第三阶段一些用不到的内存\n",
    "# import gc\n",
    "# del ThiStaOD\n",
    "# gc.collect()"
   ]
  },
  {
   "cell_type": "markdown",
   "metadata": {},
   "source": [
    "# 6.第三阶段（原第四阶段）trip挖掘,frequent sequence pattern mining,regularity,similarity计算"
   ]
  },
  {
   "cell_type": "code",
   "execution_count": null,
   "metadata": {},
   "outputs": [],
   "source": [
    "# 统计第三（原第四）阶段各天每辆车每次trip的OD的时空信息\n",
    "conn.ping(reconnect=True)\n",
    "cur = conn.cursor()\n",
    "tablenames = ['20200608','20200609','20200610','20200611','20200612','20200615','20200616','20200617','20200618','20200619']\n",
    "FouStaOD = dict()  # 用一个字典来存储第二阶段各天的每辆车每次trip的OD的时空信息\n",
    "for table in tablenames:\n",
    "    sql = '''\n",
    "    select carnum1 , carnum2 , time , LNG , LAT from {}aj2 where (type = 2 or type = 52) and (lng is not null and lat is not null and \n",
    "    lng > 119 and lng < 121 and lat > 29 and lat < 30)\n",
    "    '''.format(table)\n",
    "    cur.execute(sql)\n",
    "    conn.commit()\n",
    "    tmptable = cur.fetchall()\n",
    "    tmptable = pd.DataFrame(tmptable)\n",
    "    tmptable.rename(columns = {0:'carnum1' , 1:'carnum2' , 2:'time' , 3:'LNG' , 4:'LAT'} , inplace = True)\n",
    "    tmptable['carnum'] = tmptable['carnum1'] + tmptable['carnum2']\n",
    "    # 得到车辆每一天的出行链\n",
    "    tmptable.sort_values(by = ['carnum' , 'time'] , ascending = (True , True) , inplace=True)\n",
    "    tmptable.reset_index(drop=True,inplace=True)\n",
    "    tmptable[['time']] = tmptable[['time']].applymap(lambda x : x[11:13])\n",
    "    tmptable['seq']=tmptable.apply(toSeq , axis=1)\n",
    "    tmptable = tmptable.groupby(['carnum']).apply(merseq)\n",
    "    tmptable = pd.DataFrame(tmptable)\n",
    "    tmptable.reset_index(inplace = True)\n",
    "    tmptable.rename(columns={0:table},inplace = True)\n",
    "    FouStaOD[table] = tmptable\n",
    "    del tmptable\n",
    "    gc.collect()\n",
    "    print(table , \" has query successfully!\")\n",
    "cur.close()"
   ]
  },
  {
   "cell_type": "code",
   "execution_count": null,
   "metadata": {},
   "outputs": [],
   "source": [
    "FouStaOD['20200608'].head(3)"
   ]
  },
  {
   "cell_type": "code",
   "execution_count": null,
   "metadata": {},
   "outputs": [],
   "source": [
    "# 把第四阶段各天的sequence合并到一张dataframe中去\n",
    "FouStaTab=FouStaOD['20200608']\n",
    "tablenames = ['20200609','20200610','20200611','20200612','20200615','20200616','20200617','20200618','20200619']\n",
    "for table in tablenames:\n",
    "    tmptable = FouStaOD[table]\n",
    "    FouStaTab = pd.merge(FouStaTab,tmptable,how='outer',on='carnum')\n",
    "\n",
    "# 将FirStaOD释放掉\n",
    "del FouStaOD\n",
    "gc.collect()\n",
    "\n",
    "# 把出现天数少于5天的车辆删除，因为我取5天为阈值，support大于等于5方才认为频繁出行模式，因此少于5天的车不可能有频繁出行模式。\n",
    "# 该步骤主要为了减少计算量和存储量\n",
    "def judgedel(ser):\n",
    "    # 判断该行是否需要删除\n",
    "    if len(ser[ser.isnull()]) > 5:\n",
    "        return 1\n",
    "    else:\n",
    "        return 0\n",
    "\n",
    "FouStaTab['tag'] = FouStaTab.apply(judgedel , axis = 1)\n",
    "FouStaTab = FouStaTab[FouStaTab['tag'] == 0]\n",
    "FouStaTab.drop(columns=['tag'],inplace=True)\n",
    "FouStaTab.reset_index(drop=True,inplace=True)\n",
    "FouStaTab.head(2)"
   ]
  },
  {
   "cell_type": "code",
   "execution_count": null,
   "metadata": {
    "scrolled": true
   },
   "outputs": [],
   "source": [
    "time_begin = time.time()\n",
    "FouStaTab['freseq'] = FouStaTab.apply(getfreqpattern,axis=1)\n",
    "FouStaTab.head(2)"
   ]
  },
  {
   "cell_type": "code",
   "execution_count": null,
   "metadata": {},
   "outputs": [],
   "source": [
    "# 将得不到frequent sequence activity pattern 的人都去除掉\n",
    "def keepornot(x):\n",
    "    if len(x) == 0:\n",
    "        return None\n",
    "    else:\n",
    "        return x\n",
    "FouStaTab['freseq'] = FouStaTab[['freseq']].applymap(keepornot)\n",
    "FouStaTab = FouStaTab[FouStaTab['freseq'].notnull()]\n",
    "FouStaTab.head(2)"
   ]
  },
  {
   "cell_type": "code",
   "execution_count": null,
   "metadata": {
    "scrolled": true
   },
   "outputs": [],
   "source": [
    "# 第四阶段regularity地计算\n",
    "FouStaTab['regu'] = FouStaTab.apply(intraweight , axis = 1)\n",
    "FouStaTab.head(3)"
   ]
  },
  {
   "cell_type": "code",
   "execution_count": null,
   "metadata": {},
   "outputs": [],
   "source": [
    "FouStaTab = FouStaTab[['carnum','freseq','regu']]\n",
    "FouStaTab.head(2)"
   ]
  },
  {
   "cell_type": "code",
   "execution_count": null,
   "metadata": {},
   "outputs": [],
   "source": [
    "FouStaTab.to_csv('FouStaTab.csv',encoding = 'gbk',index=False)\n",
    "len(FouStaTab)"
   ]
  },
  {
   "cell_type": "markdown",
   "metadata": {},
   "source": [
    "# 6.5 各阶段频繁出行模式数据读入及处理\n",
    "\n",
    "由于数据量过大，每次提取完一阶段的频繁出行模式都需要关闭jupyter并清除内存，这导致内存中的FirStaTab，SecStaTab，FouStaTab都消失了，因此需要重新读入，并将频繁出行模式从字符串重新转换为list格式。"
   ]
  },
  {
   "cell_type": "code",
   "execution_count": null,
   "metadata": {},
   "outputs": [],
   "source": [
    "def str2list(x):\n",
    "    if type(x) == float:\n",
    "        return x\n",
    "    else:\n",
    "        return eval(x)"
   ]
  },
  {
   "cell_type": "code",
   "execution_count": null,
   "metadata": {},
   "outputs": [],
   "source": [
    "FirStaTab = pd.read_csv(\"FirStaTab.csv\",encoding='gbk')\n",
    "SecStaTab = pd.read_csv(\"SecStaTab.csv\",encoding='gbk')\n",
    "FouStaTab = pd.read_csv(\"FouStaTab.csv\",encoding='gbk')\n",
    "# 频繁出行模式字符串转化为list\n",
    "FirStaTab['freseq'] = FirStaTab[['freseq']].applymap(str2list)\n",
    "SecStaTab['freseq'] = SecStaTab[['freseq']].applymap(str2list)\n",
    "FouStaTab['freseq'] = FouStaTab[['freseq']].applymap(str2list)\n",
    "type(FirStaTab.iloc[0,:]['freseq'])"
   ]
  },
  {
   "cell_type": "markdown",
   "metadata": {},
   "source": [
    "# 7.各阶段frequent sequence activity pattern及regularity聚合到一张dataframe中去，并进行阶段间similarity计算，此外，挖掘出各个阶段的被检测频次均值"
   ]
  },
  {
   "cell_type": "markdown",
   "metadata": {},
   "source": [
    "## 7.1 第一二三（原四）阶段聚合为一张dataframe"
   ]
  },
  {
   "cell_type": "code",
   "execution_count": null,
   "metadata": {},
   "outputs": [],
   "source": [
    "AllStaPat = pd.merge(FirStaTab[['carnum','freseq','regu']],SecStaTab[['carnum','freseq','regu']],on ='carnum' ,how='left')\n",
    "AllStaPat.rename(columns={'freseq_x':'freseq1','regu_x':'regu1','freseq_y':'freseq2','regu_y':'regu2'},inplace=True)\n",
    "# AllStaPat = pd.merge(AllStaPat,ThiStaTab[['carnum','freseq','regu']],on ='carnum' ,how='left' )\n",
    "# AllStaPat.rename(columns={'freseq':'freseq3','regu':'regu3'},inplace = True)\n",
    "AllStaPat = pd.merge(AllStaPat,FouStaTab[['carnum','freseq','regu']],on ='carnum' ,how='left' )\n",
    "AllStaPat.rename(columns={'freseq':'freseq4','regu':'regu4'},inplace = True)\n",
    "AllStaPat.head(3)"
   ]
  },
  {
   "cell_type": "code",
   "execution_count": null,
   "metadata": {
    "scrolled": true
   },
   "outputs": [],
   "source": [
    "# 释放掉FirStaTab，SecStaTab，ThiStaTab，FouStaTab以减少内存开始；\n",
    "# 运行到这里内存只剩下8个G了，只剩下AllStaPat就可以了，其他变量都释放掉。\n",
    "import gc\n",
    "del FirStaTab\n",
    "del SecStaTab\n",
    "# del ThiStaTab\n",
    "del FouStaTab\n",
    "gc.collect()"
   ]
  },
  {
   "cell_type": "markdown",
   "metadata": {},
   "source": [
    "## 7.2 similarity计算\n",
    "\n",
    "similarity计算出第一二阶段的similarity，第一三阶段的similarity，第一四阶段的similarity。"
   ]
  },
  {
   "cell_type": "code",
   "execution_count": null,
   "metadata": {},
   "outputs": [],
   "source": [
    "def calsimimat(fp1,fp2):\n",
    "    # 计算两个pattern的similarity矩阵，第i行第j列是fp1第i个pattern和fp2第j个pattern的similarity\n",
    "    freseqmat = np.zeros( shape = (len(fp1) , len(fp2)) )\n",
    "    for i in range(len(fp1)):\n",
    "        for j in range(len(fp2)):\n",
    "            freseqmat[i][j] = pattern_simi(fp1[i][0:-3] , fp2[j][0:-3])\n",
    "    return freseqmat\n",
    "    \n",
    "calsimimat([[['09', 120.186, 29.3319], ['20', 120.114, 29.3432], (1, 1), 4, [(2, 1), (6, 1), (7, 1)]], [['07', 120.186, 29.3319], ['17', 120.119, 29.3431], (2, 1), 4, [(1, 1), (6, 1), (7, 1)]], [['07', 120.186, 29.3319], ['17', 120.122, 29.3433], (6, 1), 4, [(1, 1), (2, 1), (7, 1)]], [['07', 120.186, 29.3319], ['17', 120.119, 29.3431], (7, 1), 4, [(1, 1), (2, 1), (6, 1)]]],\n",
    "          [[['07', 120.186, 29.3319], ['18', 120.114, 29.3432], (1, 1), 4, [(2, 1), (6, 1), (7, 1)]], [['07', 120.186, 29.3319], ['17', 120.119, 29.3431], (2, 1), 4, [(1, 1), (6, 1), (7, 1)]], [['07', 120.186, 29.3319], ['17', 120.122, 29.3433], (6, 1), 4, [(1, 1), (2, 1), (7, 1)]], [['07', 120.186, 29.3319], ['17', 120.119, 29.3431], (7, 1), 4, [(1, 1), (2, 1), (6, 1)]]])"
   ]
  },
  {
   "cell_type": "code",
   "execution_count": null,
   "metadata": {},
   "outputs": [],
   "source": [
    "def inter_simi12(ser):\n",
    "    if ser.name%10000 == 0:\n",
    "        time_end = time.time()\n",
    "        consumedtime = time_end - time_begin\n",
    "        print(\"已经处理到第{0}行,共耗时{1}分钟.\".format(ser.name , round(consumedtime/60 , 3)))\n",
    "    # 计算第一二阶段的inter similarity\n",
    "    if type(ser[3]) == float or type(ser[1]) == float:\n",
    "        return 0\n",
    "    else:\n",
    "        fp1=ser[1] ; fp2=ser[3]\n",
    "        # 判断fp1和fp2的长度，若长度大于70，则仅保留最后70个频繁出行模式\n",
    "        if len(fp1) > 70:\n",
    "            fp1 = fp1[-70:]\n",
    "        if len(fp2) > 70:\n",
    "            fp2 = fp2[-70:]\n",
    "        # 得到两个frequent pattern list间的相似性矩阵\n",
    "        freseqmat = calsimimat(fp1,fp2)\n",
    "        # calculate inter similarity(i,j)i\n",
    "        simi1 = 0 ; weig = 0\n",
    "        for i in range(len(fp1)):\n",
    "            indy = np.argmax(freseqmat[i,:])\n",
    "            tmpweig = np.sqrt(fp1[i][-2] * fp2[indy][-2] / 100)\n",
    "            tmpsimi = freseqmat[i][indy]\n",
    "            simi1 = simi1+(tmpweig*tmpsimi)\n",
    "            weig = weig + tmpweig\n",
    "        simi1 = simi1 / weig\n",
    "        # calculate inter similarity(i,j)j\n",
    "        simi2 = 0 ; weig = 0\n",
    "        for j in range(len(fp2)):\n",
    "            indx = np.argmax(freseqmat[:,j])\n",
    "            tmpweig = np.sqrt(fp2[j][-2] * fp1[indx][-2] / 100)\n",
    "            tmpsimi = freseqmat[indx][j]\n",
    "            simi2 = simi2+(tmpweig*tmpsimi)\n",
    "            weig = weig + tmpweig\n",
    "        simi2 = simi2 / weig\n",
    "        return ((simi1+simi2) / 2)\n",
    "\n",
    "def inter_simi14(ser):\n",
    "    # 计算第一三阶段的inter similarity\n",
    "    if ser.name%10000 == 0:\n",
    "        time_end = time.time()\n",
    "        consumedtime = time_end - time_begin\n",
    "        print(\"已经处理到第{0}行,共耗时{1}分钟.\".format(ser.name , round(consumedtime/60 , 3)))\n",
    "    if type(ser[5]) == float or type(ser[1]) == float:\n",
    "        return 0\n",
    "    else:\n",
    "        fp1=ser[1] ; fp2=ser[5]\n",
    "        # 判断fp1和fp2的长度，若长度大于70，则仅保留最后70个频繁出行模式\n",
    "        if len(fp1) > 70:\n",
    "            fp1 = fp1[-70:]\n",
    "        if len(fp2) > 70:\n",
    "            fp2 = fp2[-70:]\n",
    "        # 得到两个frequent pattern list间的相似性矩阵\n",
    "        freseqmat = calsimimat(fp1,fp2)\n",
    "        # calculate inter similarity(i,j)i\n",
    "        simi1 = 0 ; weig = 0\n",
    "        for i in range(len(fp1)):\n",
    "            indy = np.argmax(freseqmat[i,:])\n",
    "            tmpweig = np.sqrt(fp1[i][-2] * fp2[indy][-2] / 100)\n",
    "            tmpsimi = freseqmat[i][indy]\n",
    "            simi1 = simi1+(tmpweig*tmpsimi)\n",
    "            weig = weig + tmpweig\n",
    "        simi1 = simi1 / weig\n",
    "        # calculate inter similarity(i,j)j\n",
    "        simi2 = 0 ; weig = 0\n",
    "        for j in range(len(fp2)):\n",
    "            indx = np.argmax(freseqmat[:,j])\n",
    "            tmpweig = np.sqrt(fp2[j][-2] * fp1[indx][-2] / 100)\n",
    "            tmpsimi = freseqmat[indx][j]\n",
    "            simi2 = simi2+(tmpweig*tmpsimi)\n",
    "            weig = weig + tmpweig\n",
    "        simi2 = simi2 / weig\n",
    "        return ((simi1+simi2) / 2)\n",
    "\n",
    "# def inter_simi14(ser):\n",
    "#     # 计算第一四阶段的inter similarity\n",
    "#     if type(ser[7]) == float or type(ser[1]) == float:\n",
    "#         return 0\n",
    "#     else:\n",
    "#         fp1=ser[1] ; fp2=ser[7]\n",
    "#         # 得到两个frequent pattern list间的相似性矩阵\n",
    "#         freseqmat = calsimimat(fp1,fp2)\n",
    "#         # calculate inter similarity(i,j)i\n",
    "#         simi1 = 0 ; weig = 0\n",
    "#         for i in range(len(fp1)):\n",
    "#             indy = np.argmax(freseqmat[i,:])\n",
    "#             tmpweig = np.sqrt(fp1[i][-2] * fp2[indy][-2] / 80)\n",
    "#             tmpsimi = freseqmat[i][indy]\n",
    "#             simi1 = simi1+(tmpweig*tmpsimi)\n",
    "#             weig = weig + tmpweig\n",
    "#         simi1 = simi1 / weig\n",
    "#         # calculate inter similarity(i,j)j\n",
    "#         simi2 = 0 ; weig = 0\n",
    "#         for j in range(len(fp2)):\n",
    "#             indx = np.argmax(freseqmat[:,j])\n",
    "#             tmpweig = np.sqrt(fp2[j][-2] * fp1[indx][-2] / 80)\n",
    "#             tmpsimi = freseqmat[indx][j]\n",
    "#             simi2 = simi2+(tmpweig*tmpsimi)\n",
    "#             weig = weig + tmpweig\n",
    "#         simi2 = simi2 / weig\n",
    "#         return ((simi1+simi2) / 2)\n",
    "    \n",
    "time_begin = time.time()\n",
    "AllStaPat.iloc[0:2,:].apply(inter_simi12,axis=1)"
   ]
  },
  {
   "cell_type": "code",
   "execution_count": null,
   "metadata": {
    "scrolled": true
   },
   "outputs": [],
   "source": [
    "# 计算出第一二、第一三、第一四阶段的similarity\n",
    "time_begin = time.time()\n",
    "AllStaPat['simi12'] = AllStaPat.apply(inter_simi12 , axis=1)\n",
    "# AllStaPat['simi13'] = AllStaPat.apply(inter_simi13 , axis=1)\n",
    "time_begin = time.time()\n",
    "AllStaPat['simi14'] = AllStaPat.apply(inter_simi14 , axis=1)\n",
    "AllStaPat.head(2)"
   ]
  },
  {
   "cell_type": "code",
   "execution_count": null,
   "metadata": {},
   "outputs": [],
   "source": [
    "len(AllStaPat)"
   ]
  },
  {
   "cell_type": "markdown",
   "metadata": {},
   "source": [
    "## 7.3 各阶段日均被检测频次提取"
   ]
  },
  {
   "cell_type": "code",
   "execution_count": null,
   "metadata": {
    "scrolled": true
   },
   "outputs": [],
   "source": [
    "# 统计第一阶段各天每辆车每次trip的OD的时空信息\n",
    "conn.ping(reconnect=True)\n",
    "cur = conn.cursor()\n",
    "tablenames = ['20191217','20191218','20191220','20200106','20200110','20191223','20191224','20191225','20191226','20191227']\n",
    "FirStaOD = dict()  # 用一个字典来存储第一阶段各天的每辆车每次trip的OD的时空信息\n",
    "for table in tablenames:\n",
    "    sql = '''\n",
    "    select concat(carnum1,carnum2) as carnum , count(*) as freq from {}aj2 where (type = 2 or type = 52) and (lng is not null and lat is not null and \n",
    "    lng > 119 and lng < 121 and lat > 29 and lat < 30)\n",
    "    group by carnum1 , carnum2\n",
    "    '''.format(table)\n",
    "    cur.execute(sql)\n",
    "    conn.commit()\n",
    "    tmptable = cur.fetchall()\n",
    "    tmptable = pd.DataFrame(tmptable)\n",
    "    tmptable.rename(columns = {0:'carnum' , 1:table} , inplace = True)\n",
    "    tmptable = pd.merge(tmptable , AllStaPat[['carnum']] , how = 'inner' , on = ['carnum'])\n",
    "    \n",
    "    # 得到AllStaPat中每一辆车在该日的被检测频次\n",
    "    FirStaOD[table] = tmptable\n",
    "    print(table , \" has query successfully!\")\n",
    "cur.close()"
   ]
  },
  {
   "cell_type": "code",
   "execution_count": null,
   "metadata": {},
   "outputs": [],
   "source": [
    "FirStaOD['20191217'].head(2)"
   ]
  },
  {
   "cell_type": "code",
   "execution_count": null,
   "metadata": {},
   "outputs": [],
   "source": [
    "tmptable = FirStaOD['20191217']\n",
    "tablenames = ['20191218','20191220','20200106','20200110','20191223','20191224','20191225','20191226','20191227']\n",
    "for table in tablenames:\n",
    "    tmptable = pd.merge(tmptable , FirStaOD[table] , how = 'outer',on=['carnum'])\n",
    "FirStaOD = tmptable\n",
    "FirStaOD.head(2)"
   ]
  },
  {
   "cell_type": "code",
   "execution_count": null,
   "metadata": {},
   "outputs": [],
   "source": [
    "# 计算第一阶段各车辆的平均每日被检测次数\n",
    "FirStaOD['FirFreq'] = FirStaOD.iloc[:,1:].sum(axis=1) / 10\n",
    "FirStaOD = FirStaOD[['carnum','FirFreq']]\n",
    "FirStaOD.head(2)"
   ]
  },
  {
   "cell_type": "code",
   "execution_count": null,
   "metadata": {},
   "outputs": [],
   "source": [
    "# 统计第二阶段各天每辆车每次trip的OD的时空信息\n",
    "conn.ping(reconnect=True)\n",
    "cur = conn.cursor()\n",
    "tablenames = ['20200210','20200211','20200212','20200213','20200214','20200217','20200218','20200219','20200220','20200221']\n",
    "SecStaOD = dict()  # 用一个字典来存储第一阶段各天的每辆车每次trip的OD的时空信息\n",
    "for table in tablenames:\n",
    "    sql = '''\n",
    "    select concat(carnum1,carnum2) as carnum , count(*) as freq from {}aj2 where (type = 2 or type = 52) and (lng is not null and lat is not null and \n",
    "    lng > 119 and lng < 121 and lat > 29 and lat < 30)\n",
    "    group by carnum1 , carnum2\n",
    "    '''.format(table)\n",
    "    cur.execute(sql)\n",
    "    conn.commit()\n",
    "    tmptable = cur.fetchall()\n",
    "    tmptable = pd.DataFrame(tmptable)\n",
    "    tmptable.rename(columns = {0:'carnum' , 1:table} , inplace = True)\n",
    "    tmptable = pd.merge(tmptable , AllStaPat[['carnum']] , how = 'inner' , on = ['carnum'])\n",
    "    \n",
    "    # 得到AllStaPat中每一辆车在该日的被检测频次\n",
    "    SecStaOD[table] = tmptable\n",
    "    print(table , \" has query successfully!\")\n",
    "cur.close()\n",
    "\n",
    "# 将各天的表联结成一张表\n",
    "tmptable = SecStaOD['20200210']\n",
    "tablenames = ['20200211','20200212','20200213','20200214','20200217','20200218','20200219','20200220','20200221']\n",
    "for table in tablenames:\n",
    "    tmptable = pd.merge(tmptable , SecStaOD[table] , how = 'outer',on=['carnum'])\n",
    "SecStaOD = tmptable\n",
    "SecStaOD.head(5)\n",
    "\n",
    "# 计算第二阶段各车辆的平均每日被检测次数\n",
    "SecStaOD['SecFreq'] = SecStaOD.iloc[:,1:].sum(axis=1) / 10\n",
    "SecStaOD = SecStaOD[['carnum','SecFreq']]\n",
    "SecStaOD.head(2)"
   ]
  },
  {
   "cell_type": "code",
   "execution_count": null,
   "metadata": {
    "scrolled": true
   },
   "outputs": [],
   "source": [
    "# 统计第四阶段各天每辆车每次trip的OD的时空信息\n",
    "conn.ping(reconnect=True)\n",
    "cur = conn.cursor()\n",
    "tablenames = ['20200608','20200609','20200610','20200611','20200612','20200615','20200616','20200617','20200618','20200619']\n",
    "FouStaOD = dict()  # 用一个字典来存储第一阶段各天的每辆车每次trip的OD的时空信息\n",
    "for table in tablenames:\n",
    "    sql = '''\n",
    "    select concat(carnum1,carnum2) as carnum , count(*) as freq from {}aj2 where (type = 2 or type = 52) and (lng is not null and lat is not null and \n",
    "    lng > 119 and lng < 121 and lat > 29 and lat < 30)\n",
    "    group by carnum1 , carnum2\n",
    "    '''.format(table)\n",
    "    cur.execute(sql)\n",
    "    conn.commit()\n",
    "    tmptable = cur.fetchall()\n",
    "    tmptable = pd.DataFrame(tmptable)\n",
    "    tmptable.rename(columns = {0:'carnum' , 1:table} , inplace = True)\n",
    "    tmptable = pd.merge(tmptable , AllStaPat[['carnum']] , how = 'inner' , on = ['carnum'])\n",
    "    \n",
    "    # 得到AllStaPat中每一辆车在该日的被检测频次\n",
    "    FouStaOD[table] = tmptable\n",
    "    print(table , \" has query successfully!\")\n",
    "cur.close()\n",
    "\n",
    "# 将各天的表联结成一张表\n",
    "tmptable = FouStaOD['20200608']\n",
    "tablenames = ['20200609','20200610','20200611','20200612','20200615','20200616','20200617','20200618','20200619']\n",
    "for table in tablenames:\n",
    "    tmptable = pd.merge(tmptable , FouStaOD[table] , how = 'outer',on=['carnum'])\n",
    "FouStaOD = tmptable\n",
    "FouStaOD.head(5)\n",
    "\n",
    "# 计算第二阶段各车辆的平均每日被检测次数\n",
    "FouStaOD['FouFreq'] = FouStaOD.iloc[:,1:].sum(axis=1) / 10\n",
    "FouStaOD = FouStaOD[['carnum','FouFreq']]\n",
    "FouStaOD.head(2)"
   ]
  },
  {
   "cell_type": "code",
   "execution_count": null,
   "metadata": {},
   "outputs": [],
   "source": [
    "# 把四个阶段的频次表做联结成一张表\n",
    "AllStaPat = pd.merge(AllStaPat, FirStaOD, how='left',on='carnum')\n",
    "AllStaPat = pd.merge(AllStaPat, SecStaOD, how='left',on='carnum')\n",
    "AllStaPat = pd.merge(AllStaPat, FouStaOD, how='left',on='carnum')\n",
    "AllStaPat.head(3)"
   ]
  },
  {
   "cell_type": "code",
   "execution_count": null,
   "metadata": {},
   "outputs": [],
   "source": [
    "del FirStaOD\n",
    "del SecStaOD\n",
    "# del ThiStaTab\n",
    "del FouStaOD\n",
    "gc.collect()"
   ]
  },
  {
   "cell_type": "markdown",
   "metadata": {},
   "source": [
    "# 8.基于聚类分析疫情对出行行为影响分析"
   ]
  },
  {
   "cell_type": "code",
   "execution_count": null,
   "metadata": {
    "scrolled": false
   },
   "outputs": [],
   "source": [
    "# 准备好聚类数据集\n",
    "data = AllStaPat[['regu1','regu2','regu4','simi12','simi14']]\n",
    "data.fillna(0,inplace = True)\n",
    "data.head(2)"
   ]
  },
  {
   "cell_type": "markdown",
   "metadata": {},
   "source": [
    "**使用kmeans聚类算法进行尝试**"
   ]
  },
  {
   "cell_type": "code",
   "execution_count": null,
   "metadata": {
    "scrolled": true
   },
   "outputs": [],
   "source": [
    "from sklearn.cluster import KMeans\n",
    "from sklearn.metrics import silhouette_score\n",
    "\n",
    "plt.rcParams['figure.dpi'] = 150 #分辨率\n",
    "Scores = [] # 存储不同初始聚类数目的轮廓系数值\n",
    "for k in range(2,18):  \n",
    "    estimator = KMeans(n_clusters=k,init='k-means++', n_init=10, max_iter=300, tol=0.0001, \n",
    "                       precompute_distances='auto', verbose=0, random_state=0, copy_x=True, n_jobs=-1, \n",
    "                       algorithm='auto')  # 构造聚类器  \n",
    "    labels = estimator.fit_predict(data)  \n",
    "    Scores.append(silhouette_score(data , labels , random_state=0))  \n",
    "    print(\"{0} clustering method has been successfully run\".format(k))\n",
    "X = range(2,18)  \n",
    "plt.xlabel('k')  \n",
    "plt.ylabel('Silhouette Coefficient')  \n",
    "plt.plot(X,Scores,'o-')  \n",
    "plt.show()  "
   ]
  },
  {
   "cell_type": "code",
   "execution_count": null,
   "metadata": {},
   "outputs": [],
   "source": [
    "estimator = KMeans(n_clusters=3,init='k-means++', n_init=10, max_iter=300, tol=0.0001, \n",
    "                       precompute_distances='auto', verbose=0, random_state=0, copy_x=True, n_jobs=-1, \n",
    "                       algorithm='auto')  # 构造聚类器\n",
    "labels = estimator.fit_predict(data)  \n",
    "print(silhouette_score(data , labels , random_state=0))"
   ]
  },
  {
   "cell_type": "code",
   "execution_count": null,
   "metadata": {
    "scrolled": true
   },
   "outputs": [],
   "source": [
    "Scores"
   ]
  },
  {
   "cell_type": "code",
   "execution_count": null,
   "metadata": {
    "scrolled": true
   },
   "outputs": [],
   "source": [
    "AllStaPat['label'] = labels\n",
    "AllStaPat.head(2)"
   ]
  },
  {
   "cell_type": "markdown",
   "metadata": {},
   "source": [
    "## 8.1对各个簇进行简单分析"
   ]
  },
  {
   "cell_type": "code",
   "execution_count": null,
   "metadata": {
    "scrolled": true
   },
   "outputs": [],
   "source": [
    "clus = []\n",
    "for i in range(3):\n",
    "    clus.append(AllStaPat[AllStaPat['label'] == i])\n",
    "print(len(AllStaPat),len(clus[0]),len(clus[1]),len(clus[2]))"
   ]
  },
  {
   "cell_type": "code",
   "execution_count": null,
   "metadata": {
    "scrolled": true
   },
   "outputs": [],
   "source": [
    "# 得到各个簇的描述性统计\n",
    "for i in range(3):\n",
    "    print(\"第{0}个簇.\".format(i))\n",
    "    print(clus[i].describe())"
   ]
  },
  {
   "cell_type": "markdown",
   "metadata": {},
   "source": [
    "## 8.2将各个簇的信息保存到本地"
   ]
  },
  {
   "cell_type": "code",
   "execution_count": null,
   "metadata": {},
   "outputs": [],
   "source": [
    "def getLongestPattern(x):\n",
    "    # 对于各个阶段的frequent pattern仅仅保留最长的那一个,且从最长的pattern中找到首次被检测时间最早的。\n",
    "    if type(x) == float:\n",
    "        return x\n",
    "    minind = -1\n",
    "    plen = len(x[-1])-3\n",
    "    if plen == 2:\n",
    "        for ind in range(len(x)):\n",
    "            if int(x[len(x)-1-ind][0][0]) < int(x[minind][0][0]):\n",
    "                minind = len(x)-1-ind\n",
    "        return x[minind]\n",
    "    else:\n",
    "        for ind in range(len(x)):\n",
    "            if len(x[len(x)-1-ind]) -3 < plen:\n",
    "                break\n",
    "            if int(x[len(x)-1-ind][0][0]) < int(x[minind][0][0]):\n",
    "                minind = len(x)-1-ind\n",
    "        return x[minind]"
   ]
  },
  {
   "cell_type": "code",
   "execution_count": null,
   "metadata": {
    "scrolled": true
   },
   "outputs": [],
   "source": [
    "# 把各个簇保存下来，但是由于每辆车都有很多pattern，在此仅保留最长的那一个pattern。\n",
    "for i in range(3):\n",
    "    tmp = AllStaPat[AllStaPat['label'] == i]\n",
    "    tmp['freseq1'] = tmp[['freseq1']].applymap(getLongestPattern)\n",
    "    tmp['freseq2'] = tmp[['freseq2']].applymap(getLongestPattern)\n",
    "#     tmp['freseq3'] = tmp[['freseq3']].applymap(getLongestPattern)\n",
    "    tmp['freseq4'] = tmp[['freseq4']].applymap(getLongestPattern)\n",
    "    tmp.to_csv(\"第{0}个簇出行模式.csv\".format(i) , encoding = 'gbk')"
   ]
  },
  {
   "cell_type": "markdown",
   "metadata": {},
   "source": [
    "## 8.3 对各个簇进行更为深入的分析\n",
    "单单从描述性统计结果来对各个簇的行为进行分析是较为粗略的，想要更为细致地了解各个簇的出行行为需要对出行链的特性进行分析，接下来就一个簇一个簇仔细地去进行分析。\n",
    "### 8.3.1 各个簇的出行模式长度均值和中位数计算"
   ]
  },
  {
   "cell_type": "code",
   "execution_count": null,
   "metadata": {
    "scrolled": true
   },
   "outputs": [],
   "source": [
    "# 得到各个簇各个阶段的出行链长度的均值和中位数\n",
    "def getLen(x):\n",
    "    # 该函数用来返回frequent pattern中的最长的那个pattern的长度。\n",
    "    if type(x) == float:\n",
    "        return 0\n",
    "    return (len(x[-1])-3)\n",
    "clusterLen = []  # 用来存储各个簇的pattern的长度的均值和中位数\n",
    "for i in range(3):\n",
    "    tmp = AllStaPat[AllStaPat['label'] == i]\n",
    "    tmp['freseq1'] = tmp[['freseq1']].applymap(getLen)\n",
    "    tmp['freseq2'] = tmp[['freseq2']].applymap(getLen)\n",
    "#     tmp['freseq3'] = tmp[['freseq3']].applymap(getLen)\n",
    "    tmp['freseq4'] = tmp[['freseq4']].applymap(getLen)\n",
    "    clusterLen.append([np.mean(tmp['freseq1']) , np.mean(tmp['freseq2']), np.mean(tmp['freseq4']),\n",
    "                      np.median(tmp['freseq1']),np.median(tmp['freseq2']), np.median(tmp['freseq4'])])"
   ]
  },
  {
   "cell_type": "code",
   "execution_count": null,
   "metadata": {
    "scrolled": true
   },
   "outputs": [],
   "source": [
    "clusterLen"
   ]
  },
  {
   "cell_type": "markdown",
   "metadata": {},
   "source": [
    "### 8.3.2 各个簇的首末次出行时间均值计算"
   ]
  },
  {
   "cell_type": "code",
   "execution_count": null,
   "metadata": {
    "scrolled": true
   },
   "outputs": [],
   "source": [
    "def getLongestPattern(x):\n",
    "    # 对于各个阶段的frequent pattern仅仅保留最长的那一个,且从最长的pattern中找到首次被检测时间最早的。\n",
    "    if type(x) == float:\n",
    "        return x\n",
    "    minind = -1\n",
    "    plen = len(x[-1])-3\n",
    "    if plen == 2:\n",
    "        for ind in range(len(x)):\n",
    "            if int(x[len(x)-1-ind][0][0]) < int(x[minind][0][0]):\n",
    "                minind = len(x)-1-ind\n",
    "        return x[minind]\n",
    "    else:\n",
    "        for ind in range(len(x)):\n",
    "            if len(x[len(x)-1-ind]) -3 < plen:\n",
    "                break\n",
    "            if int(x[len(x)-1-ind][0][0]) < int(x[minind][0][0]):\n",
    "                minind = len(x)-1-ind\n",
    "        return x[minind]\n",
    "\n",
    "def getFirDec(x):\n",
    "    # 获得车辆的最长的frequent pattern的首次被检测时间\n",
    "    if type(x) == float:\n",
    "        return None\n",
    "    pat = getLongestPattern(x)\n",
    "    return int(pat[0][0])\n",
    "\n",
    "def getLastDec(x):\n",
    "    # 获得车辆的最长的frequent pattern的末次被检测时间\n",
    "    if type(x) == float:\n",
    "        return None\n",
    "    pat = getLongestPattern(x)\n",
    "    return int(pat[-4][0])\n",
    "\n",
    "clusterFirLastDec = []  # 用来存储各个簇的pattern的首末次被检测时间均值和末次被检测时间均值\n",
    "for i in range(3):\n",
    "    tmp = AllStaPat[AllStaPat['label'] == i]\n",
    "    tmp['FirDec1'] = tmp[['freseq1']].applymap(getFirDec)\n",
    "    tmp['FirDec2'] = tmp[['freseq2']].applymap(getFirDec)\n",
    "#     tmp['FirDec3'] = tmp[['freseq3']].applymap(getFirDec)\n",
    "    tmp['FirDec4'] = tmp[['freseq4']].applymap(getFirDec)\n",
    "    tmp['LastDec1'] = tmp[['freseq1']].applymap(getLastDec)\n",
    "    tmp['LastDec2'] = tmp[['freseq2']].applymap(getLastDec)\n",
    "#     tmp['LastDec3'] = tmp[['freseq3']].applymap(getLastDec)\n",
    "    tmp['LastDec4'] = tmp[['freseq4']].applymap(getLastDec)\n",
    "    \n",
    "    clusterFirLastDec.append([np.mean(tmp['FirDec1']) , np.mean(tmp['FirDec2']), np.mean(tmp['FirDec4']),\n",
    "                      np.mean(tmp['LastDec1']) , np.mean(tmp['LastDec2']), np.mean(tmp['LastDec4'])])"
   ]
  },
  {
   "cell_type": "code",
   "execution_count": null,
   "metadata": {
    "scrolled": true
   },
   "outputs": [],
   "source": [
    "clusterFirLastDec"
   ]
  },
  {
   "cell_type": "markdown",
   "metadata": {},
   "source": [
    "## 8.4 针对第0个簇的单独分析\n",
    "\n",
    "第0个簇包含的样本数据量很大，有120184辆车，而且该簇第一二、一三阶段的频繁出行模式相似性非常低。该簇绝大多数车辆都是仅仅第一阶段有频繁出行模式，但是第二三阶段都没有频繁出行模式的，因此需要针对这个簇单独进行深入分析探究。"
   ]
  },
  {
   "cell_type": "code",
   "execution_count": null,
   "metadata": {
    "scrolled": true
   },
   "outputs": [],
   "source": [
    "tmp = AllStaPat[AllStaPat['label'] == 0]\n",
    "tmp = tmp[(tmp['regu2'].notnull()) | (tmp['regu4'].notnull())]\n",
    "print(len(tmp))\n",
    "tmp.describe()"
   ]
  },
  {
   "cell_type": "code",
   "execution_count": null,
   "metadata": {},
   "outputs": [],
   "source": [
    "tmp2 = AllStaPat[AllStaPat['label'] == 0]\n",
    "tmp2 = tmp2[(tmp2['SecFreq'].notnull()) | (tmp2['FouFreq'].notnull())]\n",
    "print(len(tmp2))\n",
    "tmp2.describe()"
   ]
  },
  {
   "cell_type": "code",
   "execution_count": null,
   "metadata": {},
   "outputs": [],
   "source": [
    "# 各个簇的出行模式长度均值和中位数计算\n",
    "clusterLen = []  # 用来存储各个簇的pattern的长度的均值和中位数\n",
    "tmp['freseq1'] = tmp[['freseq1']].applymap(getLen)\n",
    "tmp['freseq2'] = tmp[['freseq2']].applymap(getLen)\n",
    "#     tmp['freseq3'] = tmp[['freseq3']].applymap(getLen)\n",
    "tmp['freseq4'] = tmp[['freseq4']].applymap(getLen)\n",
    "clusterLen.append([np.mean(tmp['freseq1']) , np.mean(tmp['freseq2']), np.mean(tmp['freseq4']),\n",
    "                  np.median(tmp['freseq1']),np.median(tmp['freseq2']), np.median(tmp['freseq4'])])\n",
    "clusterLen"
   ]
  },
  {
   "cell_type": "code",
   "execution_count": null,
   "metadata": {
    "scrolled": true
   },
   "outputs": [],
   "source": [
    "# 计算下首末次被检测时间\n",
    "clusterFirLastDec = []  # 用来存储各个簇的pattern的首末次被检测时间均值和末次被检测时间均值\n",
    "tmp = AllStaPat[AllStaPat['label'] == 1]\n",
    "tmp = tmp[(tmp['regu2'].notnull()) | (tmp['regu4'].notnull())]\n",
    "tmp['FirDec1'] = tmp[['freseq1']].applymap(getFirDec)\n",
    "tmp['FirDec2'] = tmp[['freseq2']].applymap(getFirDec)\n",
    "#     tmp['FirDec3'] = tmp[['freseq3']].applymap(getFirDec)\n",
    "tmp['FirDec4'] = tmp[['freseq4']].applymap(getFirDec)\n",
    "tmp['LastDec1'] = tmp[['freseq1']].applymap(getLastDec)\n",
    "tmp['LastDec2'] = tmp[['freseq2']].applymap(getLastDec)\n",
    "#     tmp['LastDec3'] = tmp[['freseq3']].applymap(getLastDec)\n",
    "tmp['LastDec4'] = tmp[['freseq4']].applymap(getLastDec)\n",
    "\n",
    "clusterFirLastDec.append([np.mean(tmp['FirDec1']) , np.mean(tmp['FirDec2']), np.mean(tmp['FirDec4']),\n",
    "                  np.mean(tmp['LastDec1']) , np.mean(tmp['LastDec2']), np.mean(tmp['LastDec4'])])"
   ]
  },
  {
   "cell_type": "code",
   "execution_count": null,
   "metadata": {
    "scrolled": true
   },
   "outputs": [],
   "source": [
    "clusterFirLastDec"
   ]
  },
  {
   "cell_type": "markdown",
   "metadata": {},
   "source": [
    "## 8.5 各个簇出行者在各阶段出行行为分析"
   ]
  },
  {
   "cell_type": "code",
   "execution_count": null,
   "metadata": {},
   "outputs": [],
   "source": [
    "# # 将挖掘得到的各阶段出行者频繁出行模式(不包括回归变量)数据保存至本地\n",
    "# AllStaPat.to_csv(\"完整数据(不包括回归变量).csv\",encoding='gbk')"
   ]
  },
  {
   "cell_type": "code",
   "execution_count": null,
   "metadata": {
    "scrolled": true
   },
   "outputs": [],
   "source": [
    "# 读取数据，并将字符串转化为python保存的格式\n",
    "AllStaPat = pd.read_csv(\"完整数据(不包括回归变量).csv\",encoding='gbk')\n",
    "AllStaPat.drop(columns=['Unnamed: 0'],inplace=True)\n",
    "def str2list(x):\n",
    "    if type(x) == float:\n",
    "        return x\n",
    "    else:\n",
    "        return eval(x)\n",
    "\n",
    "# 测试一下正确性\n",
    "print(type(AllStaPat[['freseq1']].iloc[0:3,:].applymap(str2list).iloc[0,0]))\n",
    "AllStaPat['freseq1'] = AllStaPat[['freseq1']].applymap(str2list)\n",
    "AllStaPat['freseq2'] = AllStaPat[['freseq2']].applymap(str2list)\n",
    "# AllStaPat['freseq3'] = AllStaPat[['freseq3']].applymap(str2list)\n",
    "AllStaPat['freseq4'] = AllStaPat[['freseq4']].applymap(str2list)\n",
    "AllStaPat.head(2)"
   ]
  },
  {
   "cell_type": "markdown",
   "metadata": {},
   "source": [
    "### 8.5.1各阶段出行被检测频次分布分析"
   ]
  },
  {
   "cell_type": "code",
   "execution_count": null,
   "metadata": {
    "scrolled": true
   },
   "outputs": [],
   "source": [
    "# 得到第0个簇各个阶段的小时出行量分布\n",
    "conn.ping(reconnect=True)\n",
    "cur = conn.cursor()\n",
    "tablenames = ['20191217','20191218','20191220','20200106','20200110','20191223','20191224','20191225','20191226','20191227',\n",
    "              '20200210','20200211','20200212','20200213','20200214','20200217','20200218','20200219','20200220','20200221',\n",
    "              '20200608','20200609','20200610','20200611','20200612','20200615','20200616','20200617','20200618','20200619']\n",
    "df = pd.DataFrame(columns=['date'])\n",
    "for table in tablenames:\n",
    "    sql = '''\n",
    "    SELECT concat(carnum1 , carnum2) as carnum , DATE_FORMAT(time, '%Y-%m-%d %H') AS date FROM `{}aj2` \n",
    "    '''.format(table)\n",
    "    cur.execute(sql)\n",
    "    conn.commit()\n",
    "    tmptable = cur.fetchall()\n",
    "    tmptable = pd.DataFrame(tmptable)\n",
    "    tmptable.rename(columns={0:'carnum' , 1:'date'} , inplace=True)\n",
    "    tmptable = pd.merge(tmptable , AllStaPat[AllStaPat['label'] == 0][['carnum']] , on='carnum' , how='inner')\n",
    "    tmptable['date'] = tmptable[['date']].applymap(lambda x : x[11:13])\n",
    "    tmptable = tmptable.groupby(['date'])[['carnum']].count().reset_index()\n",
    "    tmptable.rename(columns={'carnum':table},inplace=True)\n",
    "    df = pd.merge(df , tmptable , how = 'outer' , on = 'date')\n",
    "    print(table , '已经处理完毕！')\n",
    "cur.close()\n",
    "df.fillna(0,inplace=True)\n",
    "df"
   ]
  },
  {
   "cell_type": "code",
   "execution_count": null,
   "metadata": {
    "scrolled": true
   },
   "outputs": [],
   "source": [
    "df['firsta'] = df.iloc[:,1:11].mean(axis = 1)\n",
    "df['secsta'] = df.iloc[:,11:21].mean(axis = 1)\n",
    "df['thista'] = df.iloc[:,21:31].mean(axis = 1)\n",
    "df.sort_values(['date'],inplace=True)\n",
    "df.to_excel(\"第0个簇小时被检测频次分布.xlsx\" , encoding='gbk' , index=False)"
   ]
  },
  {
   "cell_type": "code",
   "execution_count": null,
   "metadata": {
    "scrolled": true
   },
   "outputs": [],
   "source": [
    "# 得到第1个簇各个阶段的小时出行量分布\n",
    "conn.ping(reconnect=True)\n",
    "cur = conn.cursor()\n",
    "tablenames = ['20191217','20191218','20191220','20200106','20200110','20191223','20191224','20191225','20191226','20191227',\n",
    "              '20200210','20200211','20200212','20200213','20200214','20200217','20200218','20200219','20200220','20200221',\n",
    "              '20200608','20200609','20200610','20200611','20200612','20200615','20200616','20200617','20200618','20200619']\n",
    "df = pd.DataFrame(columns=['date'])\n",
    "for table in tablenames:\n",
    "    sql = '''\n",
    "    SELECT concat(carnum1 , carnum2) as carnum , DATE_FORMAT(time, '%Y-%m-%d %H') AS date FROM `{}aj2` \n",
    "    '''.format(table)\n",
    "    cur.execute(sql)\n",
    "    conn.commit()\n",
    "    tmptable = cur.fetchall()\n",
    "    tmptable = pd.DataFrame(tmptable)\n",
    "    tmptable.rename(columns={0:'carnum' , 1:'date'} , inplace=True)\n",
    "    tmptable = pd.merge(tmptable , AllStaPat[AllStaPat['label'] == 1][['carnum']] , on='carnum' , how='inner')\n",
    "    tmptable['date'] = tmptable[['date']].applymap(lambda x : x[11:13])\n",
    "    tmptable = tmptable.groupby(['date'])[['carnum']].count().reset_index()\n",
    "    tmptable.rename(columns={'carnum':table},inplace=True)\n",
    "    df = pd.merge(df , tmptable , how = 'outer' , on = 'date')\n",
    "    print(table , '已经处理完毕！')\n",
    "cur.close()\n",
    "df.fillna(0,inplace=True)\n",
    "df['firsta'] = df.iloc[:,1:11].mean(axis = 1)\n",
    "df['secsta'] = df.iloc[:,11:21].mean(axis = 1)\n",
    "df['thista'] = df.iloc[:,21:31].mean(axis = 1)\n",
    "df.sort_values(['date'],inplace=True)\n",
    "df.to_excel(\"第1个簇小时被检测频次分布.xlsx\" , encoding='gbk' , index=False)"
   ]
  },
  {
   "cell_type": "code",
   "execution_count": null,
   "metadata": {
    "scrolled": true
   },
   "outputs": [],
   "source": [
    "# 得到第2个簇各个阶段的小时出行量分布\n",
    "conn.ping(reconnect=True)\n",
    "cur = conn.cursor()\n",
    "tablenames = ['20191217','20191218','20191220','20200106','20200110','20191223','20191224','20191225','20191226','20191227',\n",
    "              '20200210','20200211','20200212','20200213','20200214','20200217','20200218','20200219','20200220','20200221',\n",
    "              '20200608','20200609','20200610','20200611','20200612','20200615','20200616','20200617','20200618','20200619']\n",
    "df = pd.DataFrame(columns=['date'])\n",
    "for table in tablenames:\n",
    "    sql = '''\n",
    "    SELECT concat(carnum1 , carnum2) as carnum , DATE_FORMAT(time, '%Y-%m-%d %H') AS date FROM `{}aj2` \n",
    "    '''.format(table)\n",
    "    cur.execute(sql)\n",
    "    conn.commit()\n",
    "    tmptable = cur.fetchall()\n",
    "    tmptable = pd.DataFrame(tmptable)\n",
    "    tmptable.rename(columns={0:'carnum' , 1:'date'} , inplace=True)\n",
    "    tmptable = pd.merge(tmptable , AllStaPat[AllStaPat['label'] == 2][['carnum']] , on='carnum' , how='inner')\n",
    "    tmptable['date'] = tmptable[['date']].applymap(lambda x : x[11:13])\n",
    "    tmptable = tmptable.groupby(['date'])[['carnum']].count().reset_index()\n",
    "    tmptable.rename(columns={'carnum':table},inplace=True)\n",
    "    df = pd.merge(df , tmptable , how = 'outer' , on = 'date')\n",
    "    print(table , '已经处理完毕！')\n",
    "cur.close()\n",
    "df.fillna(0,inplace=True)\n",
    "df['firsta'] = df.iloc[:,1:11].mean(axis = 1)\n",
    "df['secsta'] = df.iloc[:,11:21].mean(axis = 1)\n",
    "df['thista'] = df.iloc[:,21:31].mean(axis = 1)\n",
    "df.sort_values(['date'],inplace=True)\n",
    "df.to_excel(\"第2个簇小时被检测频次分布.xlsx\" , encoding='gbk' , index=False)"
   ]
  },
  {
   "cell_type": "markdown",
   "metadata": {},
   "source": [
    "**保存至本地，在本地进行绘图操作。**"
   ]
  },
  {
   "cell_type": "markdown",
   "metadata": {},
   "source": [
    "### 8.5.2 各阶段各个簇在运车辆数及平均出行强度分析"
   ]
  },
  {
   "cell_type": "code",
   "execution_count": null,
   "metadata": {
    "scrolled": true
   },
   "outputs": [],
   "source": [
    "# 得到第0个簇每天的在运车辆数及平均出行强度\n",
    "conn.ping(reconnect=True)\n",
    "cur = conn.cursor()\n",
    "tablenames = ['20191217','20191218','20191220','20200106','20200110','20191223','20191224','20191225','20191226','20191227',\n",
    "              '20200210','20200211','20200212','20200213','20200214','20200217','20200218','20200219','20200220','20200221',\n",
    "              '20200608','20200609','20200610','20200611','20200612','20200615','20200616','20200617','20200618','20200619']\n",
    "results = []  # 将每天的在运车辆数和平均出行强度存起来，格式[在运车辆数,平均出行强度]\n",
    "for table in tablenames:\n",
    "    sql = '''\n",
    "    SELECT concat(carnum1 , carnum2) as carnum  FROM `{}aj2` \n",
    "    '''.format(table)\n",
    "    cur.execute(sql)\n",
    "    conn.commit()\n",
    "    tmptable = cur.fetchall()\n",
    "    tmptable = pd.DataFrame(tmptable)\n",
    "    tmptable.rename(columns={0:'carnum'} , inplace=True)\n",
    "    tmptable = pd.merge(tmptable , AllStaPat[AllStaPat['label'] == 0][['carnum']] , on='carnum' , how='inner')\n",
    "    results.append([tmptable['carnum'].nunique() , (len(tmptable) / tmptable['carnum'].nunique())])\n",
    "    print(table , '已经处理完毕！')\n",
    "cur.close()\n",
    "results"
   ]
  },
  {
   "cell_type": "code",
   "execution_count": null,
   "metadata": {},
   "outputs": [],
   "source": [
    "tablenames = ['20191217','20191218','20191220','20200106','20200110','20191223','20191224','20191225','20191226','20191227',\n",
    "              '20200210','20200211','20200212','20200213','20200214','20200217','20200218','20200219','20200220','20200221',\n",
    "              '20200608','20200609','20200610','20200611','20200612','20200615','20200616','20200617','20200618','20200619']\n",
    "tmptable = pd.DataFrame(results)\n",
    "tmptable['Date'] = tablenames\n",
    "tmptable.rename(columns = {0:'vehnum',1:'ATI'},inplace = True)\n",
    "tmptable.to_excel(\"第0个簇在运车辆数及平均出行强度分析.xlsx\" , encoding='gbk' , index=False)"
   ]
  },
  {
   "cell_type": "code",
   "execution_count": null,
   "metadata": {
    "scrolled": true
   },
   "outputs": [],
   "source": [
    "# 得到第1个簇每天的在运车辆数及平均出行强度\n",
    "conn.ping(reconnect=True)\n",
    "cur = conn.cursor()\n",
    "tablenames = ['20191217','20191218','20191220','20200106','20200110','20191223','20191224','20191225','20191226','20191227',\n",
    "              '20200210','20200211','20200212','20200213','20200214','20200217','20200218','20200219','20200220','20200221',\n",
    "              '20200608','20200609','20200610','20200611','20200612','20200615','20200616','20200617','20200618','20200619']\n",
    "results = []  # 将每天的在运车辆数和平均出行强度存起来，格式[在运车辆数,平均出行强度]\n",
    "for table in tablenames:\n",
    "    sql = '''\n",
    "    SELECT concat(carnum1 , carnum2) as carnum  FROM `{}aj2` \n",
    "    '''.format(table)\n",
    "    cur.execute(sql)\n",
    "    conn.commit()\n",
    "    tmptable = cur.fetchall()\n",
    "    tmptable = pd.DataFrame(tmptable)\n",
    "    tmptable.rename(columns={0:'carnum'} , inplace=True)\n",
    "    tmptable = pd.merge(tmptable , AllStaPat[AllStaPat['label'] == 1][['carnum']] , on='carnum' , how='inner')\n",
    "    results.append([tmptable['carnum'].nunique() , (len(tmptable) / tmptable['carnum'].nunique())])\n",
    "    print(table , '已经处理完毕！')\n",
    "cur.close()\n",
    "tmptable = pd.DataFrame(results)\n",
    "tmptable['Date'] = tablenames\n",
    "tmptable.rename(columns = {0:'vehnum',1:'ATI'},inplace = True)\n",
    "tmptable.to_excel(\"第1个簇在运车辆数及平均出行强度分析.xlsx\" , encoding='gbk' , index=False)"
   ]
  },
  {
   "cell_type": "code",
   "execution_count": null,
   "metadata": {
    "scrolled": true
   },
   "outputs": [],
   "source": [
    "# 得到第2个簇每天的在运车辆数及平均出行强度\n",
    "conn.ping(reconnect=True)\n",
    "cur = conn.cursor()\n",
    "tablenames = ['20191217','20191218','20191220','20200106','20200110','20191223','20191224','20191225','20191226','20191227',\n",
    "              '20200210','20200211','20200212','20200213','20200214','20200217','20200218','20200219','20200220','20200221',\n",
    "              '20200608','20200609','20200610','20200611','20200612','20200615','20200616','20200617','20200618','20200619']\n",
    "results = []  # 将每天的在运车辆数和平均出行强度存起来，格式[在运车辆数,平均出行强度]\n",
    "for table in tablenames:\n",
    "    sql = '''\n",
    "    SELECT concat(carnum1 , carnum2) as carnum  FROM `{}aj2` \n",
    "    '''.format(table)\n",
    "    cur.execute(sql)\n",
    "    conn.commit()\n",
    "    tmptable = cur.fetchall()\n",
    "    tmptable = pd.DataFrame(tmptable)\n",
    "    tmptable.rename(columns={0:'carnum'} , inplace=True)\n",
    "    tmptable = pd.merge(tmptable , AllStaPat[AllStaPat['label'] == 2][['carnum']] , on='carnum' , how='inner')\n",
    "    results.append([tmptable['carnum'].nunique() , (len(tmptable) / tmptable['carnum'].nunique())])\n",
    "    print(table , '已经处理完毕！')\n",
    "cur.close()\n",
    "tmptable = pd.DataFrame(results)\n",
    "tmptable['Date'] = tablenames\n",
    "tmptable.rename(columns = {0:'vehnum',1:'ATI'},inplace = True)\n",
    "tmptable.to_excel(\"第2个簇在运车辆数及平均出行强度分析.xlsx\" , encoding='gbk' , index=False)"
   ]
  },
  {
   "cell_type": "markdown",
   "metadata": {},
   "source": [
    "**数据保存至本地，在本地绘图**"
   ]
  },
  {
   "cell_type": "markdown",
   "metadata": {},
   "source": [
    "### 8.5.3 首末次被检测时间分布分析"
   ]
  },
  {
   "cell_type": "code",
   "execution_count": null,
   "metadata": {
    "scrolled": true
   },
   "outputs": [],
   "source": [
    "def getLongestPattern(x):\n",
    "    # 对于各个阶段的frequent pattern仅仅保留最长的那一个,且从最长的pattern中找到首次被检测时间最早的。\n",
    "    if type(x) == float:\n",
    "        return x\n",
    "    minind = -1\n",
    "    plen = len(x[-1])-3\n",
    "    if plen == 2:\n",
    "        for ind in range(len(x)):\n",
    "            if int(x[len(x)-1-ind][0][0]) < int(x[minind][0][0]):\n",
    "                minind = len(x)-1-ind\n",
    "        return x[minind]\n",
    "    else:\n",
    "        for ind in range(len(x)):\n",
    "            if len(x[len(x)-1-ind]) -3 < plen:\n",
    "                break\n",
    "            if int(x[len(x)-1-ind][0][0]) < int(x[minind][0][0]):\n",
    "                minind = len(x)-1-ind\n",
    "        return x[minind]\n",
    "\n",
    "def getFirDec(x):\n",
    "    # 获得车辆的最长的frequent pattern的首次被检测时间\n",
    "    if type(x) == float:\n",
    "        return None\n",
    "    pat = getLongestPattern(x)\n",
    "    return int(pat[0][0])\n",
    "\n",
    "def getLastDec(x):\n",
    "    # 获得车辆的最长的frequent pattern的末次被检测时间\n",
    "    if type(x) == float:\n",
    "        return None\n",
    "    pat = getLongestPattern(x)\n",
    "    return int(pat[-4][0])\n",
    "\n",
    "for i in range(3):\n",
    "    tmp = AllStaPat[AllStaPat['label'] == i]\n",
    "    tmp['ft1'] = tmp[['freseq1']].applymap(getFirDec)\n",
    "    tmp['ft2'] = tmp[['freseq2']].applymap(getFirDec)\n",
    "    tmp['ft4'] = tmp[['freseq4']].applymap(getFirDec)\n",
    "    tmp['lt1'] = tmp[['freseq1']].applymap(getLastDec)\n",
    "    tmp['lt2'] = tmp[['freseq2']].applymap(getLastDec)\n",
    "    tmp['lt4'] = tmp[['freseq4']].applymap(getLastDec)\n",
    "    tmp[['carnum','ft1','lt1','ft2','lt2','ft4','lt4']].to_csv(\"第\"+str(i)+\"个簇各阶段首末次被检测时间.csv\",encoding='gbk',index=False)\n",
    "    print(i,\"个簇已经保存\")"
   ]
  },
  {
   "cell_type": "markdown",
   "metadata": {},
   "source": [
    "**数据保存至本地，在本地绘图**"
   ]
  },
  {
   "cell_type": "markdown",
   "metadata": {},
   "source": [
    "# 9.不同出行群体面对疫情的行为反应\n",
    "\n",
    "疫情对不同出行群体的影响分析主要分析某一出行特征的群体受疫情影响倾向于表现出怎么样的行为，比如以前出行频次很高，出行很规律的人受疫情影响会更小，比如以前出行频次低的人受疫情影响更大等等。"
   ]
  },
  {
   "cell_type": "markdown",
   "metadata": {},
   "source": [
    "## 9.1 时间维度出行行为特征提取\n",
    "\n",
    "提取出出行者第一阶段的出行行为特征，将一天划分为五个阶段，分别是Before dawn(00:00-4:00AM),Early morning(4:00–6:00AM)，Morning(6:00-12:00AM)，Afternoon(12:00-17:00PM)，Evening(17:00-21:00PM)，Night(21:00-24:00PM)，分别统计第一阶段各个时间段的每日被检测频次均值和方差。"
   ]
  },
  {
   "cell_type": "code",
   "execution_count": null,
   "metadata": {},
   "outputs": [],
   "source": [
    "# 统计第一阶段各天每辆车在各个时间段的被检测频次\n",
    "conn.ping(reconnect=True)\n",
    "cur = conn.cursor()\n",
    "tablenames = ['20191217','20191218','20191220','20200106','20200110','20191223','20191224','20191225','20191226','20191227']\n",
    "fretab = dict()  # 用一个字典来存储第一阶段各天的每辆车每次trip的OD的时空信息\n",
    "for table in tablenames:\n",
    "    sql = '''\n",
    "    select carnum , tp , count(*) as freq\n",
    "    from(\n",
    "    select carnum , time , \n",
    "    case \n",
    "        when time >= 0 and time < 4 then 0\n",
    "        when time >= 4 and time < 6 then 1\n",
    "        when time >= 6 and time < 12 then 2\n",
    "        when time >= 12 and time < 17 then 3\n",
    "        when time >= 17 and time < 21 then 4\n",
    "        when time >= 21 and time <= 24 then 5\n",
    "        else 6\n",
    "    END as tp\n",
    "    from(\n",
    "    select concat(carnum1,carnum2) as carnum , CAST(substr(time , 12 , 2) AS SIGNED) as time  from {}aj2 where (type = 2 or type = 52) and (lng is not null and lat is not null and \n",
    "        lng > 119 and lng < 121 and lat > 29 and lat < 30) \n",
    "    ) t1 ) t2\n",
    "    group by carnum , tp\n",
    "    '''.format(table)\n",
    "    cur.execute(sql)\n",
    "    conn.commit()\n",
    "    tmptable = cur.fetchall()\n",
    "    tmptable = pd.DataFrame(tmptable)\n",
    "    tmptable.rename(columns = {0:'carnum',1:'tp',2:table+'freq'} ,inplace = True)\n",
    "    tmptable = pd.merge(tmptable , AllStaPat[['carnum']] , how = 'inner' , on = ['carnum'])\n",
    "    \n",
    "    # 得到AllStaPat中每一辆车在该日各个阶段的被检测频次\n",
    "    fretab[table] = tmptable\n",
    "    print(table , \" has query successfully!\")\n",
    "cur.close()"
   ]
  },
  {
   "cell_type": "code",
   "execution_count": null,
   "metadata": {},
   "outputs": [],
   "source": [
    "fretab2 = fretab['20191217']\n",
    "tablenames = ['20191218','20191220','20200106','20200110','20191223','20191224','20191225','20191226','20191227']\n",
    "for table in tablenames:\n",
    "    fretab2 = pd.merge(fretab2,fretab[table],on=['carnum','tp'],how='outer')\n",
    "fretab2.head(2)"
   ]
  },
  {
   "cell_type": "code",
   "execution_count": null,
   "metadata": {},
   "outputs": [],
   "source": [
    "def calfeat(ser , operation):\n",
    "    if operation == 'avg':\n",
    "        return np.mean(ser)\n",
    "    elif operation == 'std':\n",
    "        return np.std(ser)\n",
    "    elif operation == 'count':\n",
    "        return len(ser.dropna())\n",
    "     \n",
    "fretab2['freqavg'] = fretab2.iloc[:,2:12].apply(calfeat, operation='avg' , axis = 1)\n",
    "fretab2['freqstd'] = fretab2.iloc[:,2:12].apply(calfeat, operation='std' , axis = 1)\n",
    "fretab2['count'] = fretab2.iloc[:,2:12].apply(calfeat, operation='count' , axis = 1)\n",
    "fretab2.head(2)"
   ]
  },
  {
   "cell_type": "code",
   "execution_count": null,
   "metadata": {
    "scrolled": true
   },
   "outputs": [],
   "source": [
    "# 将fretab2整理成features的透视表的形式\n",
    "fretab2 = fretab2[['carnum','tp','freqavg','freqstd','count']]\n",
    "fretab2 = pd.pivot_table(fretab2 , index=['carnum'] , columns = ['tp'] , values = ['freqavg','freqstd','count'])\n",
    "fretab2.columns = [col[0]+str(col[1]) for col in fretab2.columns.values]\n",
    "fretab2.reset_index(inplace = True)\n",
    "fretab2.head(2)"
   ]
  },
  {
   "cell_type": "code",
   "execution_count": null,
   "metadata": {},
   "outputs": [],
   "source": [
    "# 进行缺失值填补\n",
    "fretab2.fillna(0 , inplace = True)\n",
    "fretab2.head(2)"
   ]
  },
  {
   "cell_type": "code",
   "execution_count": null,
   "metadata": {
    "scrolled": true
   },
   "outputs": [],
   "source": [
    "AllStaPat = pd.merge(AllStaPat , fretab2 , how='left' , on='carnum')\n",
    "AllStaPat.head(2)"
   ]
  },
  {
   "cell_type": "markdown",
   "metadata": {},
   "source": [
    "## 9.2 每个电警设备距离市中心距离提取"
   ]
  },
  {
   "cell_type": "markdown",
   "metadata": {},
   "source": [
    "采用首先得到每个电警的1km缓冲区范围内的电警密度，然后对每辆车基于电警信息作表联结来得到每辆车的电警密度。存在一个问题是每个电警设备的devicecode都是不同的，但是一些电警的经纬度是相同的，在求每个电警的电警密度时，不将重复的经纬度删除，因为虽然有的电警经纬度重复了，但是这在计算电警密度时依然需要考虑，因为他们是不同的电警，依然反应了靠近市中心的程度，可是计算完后需要删除，因为不删除的话后续进行表联结时会出现一辆车同时与好多个电警设备联结的情况，而这是不正确的，会使一辆车出现很多次重复信息。\n",
    "\n",
    "现在将电警密度这个指标更换成每个电警距离市中心的距离。原来的代码未删除，均进行了注释。"
   ]
  },
  {
   "cell_type": "code",
   "execution_count": null,
   "metadata": {
    "scrolled": true
   },
   "outputs": [],
   "source": [
    "# 读取cameras表\n",
    "conn.ping(reconnect=True)\n",
    "cur = conn.cursor()\n",
    "sql = '''\n",
    "      select LNG , LAT from cameras\n",
    "      '''\n",
    "cur.execute(sql)\n",
    "conn.commit()\n",
    "cam = cur.fetchall()\n",
    "cam = pd.DataFrame(cam)\n",
    "cam.rename(columns = {0:'lng',1:'lat'} ,inplace = True)\n",
    "cur.close()\n",
    "# cam = cam.drop_duplicates()\n",
    "cam.head(2)"
   ]
  },
  {
   "cell_type": "code",
   "execution_count": null,
   "metadata": {
    "scrolled": false
   },
   "outputs": [],
   "source": [
    "## 原本用来计算电警密度的代码全部注释掉了\n",
    "\n",
    "# from scipy.spatial.distance import pdist\n",
    "# from scipy import spatial\n",
    "# # 得到第一阶段频繁出行模式首末次被检测点的电警密度\n",
    "# # 尝试了基于apply方法对每辆车都进行电警密度计算，但是速度实在太慢，跑完首次被检测点电警密度大约需要10个小时，因此放弃该方法\n",
    "# # 因此决定采用首先得到每个电警的1km缓冲区范围内的电警密度，然后对每辆车基于电警信息作表联结来得到每辆车的电警密度\n",
    "\n",
    "# # 定义通过经纬度计算直线距离的函数\n",
    "# from math import radians, cos, sin, asin, sqrt\n",
    "# def geodistance(lng1,lat1,lng2,lat2):\n",
    "#     if lng1 == None or lng2 == None or lat1 == None or lat2 == None:\n",
    "#         return 999999\n",
    "#     elif (lng1 < 119 or lng1 > 121) or (lng2 < 119 or lng2 > 121) or (lat1 < 29 or lat1 > 30) or (lat2 < 29 or lat2 > 30):\n",
    "#         return 999999\n",
    "#     lng1 = float(lng1) ; lng2 = float(lng2) ; lat1 = float(lat1) ; lat2 = float(lat2)\n",
    "#     lng1,lat1,lng2,lat2 = map(radians,[lng1,lat1,lng2,lat2])\n",
    "#     dlon = lng2-lng1\n",
    "#     dlat = lat2-lat1\n",
    "#     a = sin(dlat/2)**2 + cos(lat1) * cos(lat2) * sin(dlon/2)**2\n",
    "#     distance = 2* asin(sqrt(a))*6371*1000\n",
    "#     distance = round(distance/1000,3)\n",
    "#     return distance\n",
    "\n",
    "# def caldis(u,v):\n",
    "#     # 计算输入矩阵中两个向量的距离\n",
    "#     return geodistance(u[0],u[1],v[0],v[1])\n",
    "    \n",
    "# # 将cam转化为向量的形式\n",
    "# X = cam.values\n",
    "# X_mat = spatial.distance.squareform(pdist(X , metric=caldis))\n",
    "# def sma1(ser):\n",
    "#     return (len(ser[ser<=1]))\n",
    "# cam['devdes'] = np.apply_along_axis(sma1, 1, X_mat)\n",
    "# cam['devdes'] = cam['devdes'] / np.pi/1/1  # 缓冲区范围内电警数量除以面积\n",
    "# cam = cam.drop_duplicates()\n",
    "# cam.head(2)"
   ]
  },
  {
   "cell_type": "code",
   "execution_count": null,
   "metadata": {
    "scrolled": true
   },
   "outputs": [],
   "source": [
    "# cam.reset_index(drop=True,inplace=True)\n",
    "# cam"
   ]
  },
  {
   "cell_type": "code",
   "execution_count": null,
   "metadata": {},
   "outputs": [],
   "source": [
    "# import gc\n",
    "# del X_mat\n",
    "# del X\n",
    "# gc.collect()"
   ]
  },
  {
   "cell_type": "code",
   "execution_count": null,
   "metadata": {},
   "outputs": [],
   "source": [
    "corelng,corelat = bd2gcj(120.108679,29.313118)  # 义乌市中心经纬度坐标\n",
    "\n",
    "# 定义通过经纬度计算直线距离的函数\n",
    "from math import radians, cos, sin, asin, sqrt\n",
    "def geodistance(lng1,lat1,lng2,lat2):\n",
    "    if lng1 == None or lng2 == None or lat1 == None or lat2 == None:\n",
    "        return 999999\n",
    "    elif (lng1 < 119 or lng1 > 121) or (lng2 < 119 or lng2 > 121) or (lat1 < 29 or lat1 > 30) or (lat2 < 29 or lat2 > 30):\n",
    "        return 999999\n",
    "    lng1 = float(lng1) ; lng2 = float(lng2) ; lat1 = float(lat1) ; lat2 = float(lat2)\n",
    "    lng1,lat1,lng2,lat2 = map(radians,[lng1,lat1,lng2,lat2])\n",
    "    dlon = lng2-lng1\n",
    "    dlat = lat2-lat1\n",
    "    a = sin(dlat/2)**2 + cos(lat1) * cos(lat2) * sin(dlon/2)**2\n",
    "    distance = 2* asin(sqrt(a))*6371*1000\n",
    "    distance = round(distance/1000,3)\n",
    "    return distance\n",
    "\n",
    "def caldis2core(ser):\n",
    "    # 计算电警距离市中心的距离\n",
    "    return geodistance(ser[0],ser[1],corelng,corelat)\n",
    "    \n",
    "# 计算每个电警距离市中心的距离\n",
    "cam['dis'] = cam.apply(caldis2core ,axis=1)\n",
    "cam.head(2)"
   ]
  },
  {
   "cell_type": "markdown",
   "metadata": {},
   "source": [
    "## 9.3 每个电警设备的各POI类型密度提取"
   ]
  },
  {
   "cell_type": "markdown",
   "metadata": {},
   "source": [
    "POI密度这个指标经过试验效果并不好，这个不好体现在几个方面，1.物理含义不好解释，比如餐饮类别密度高，难道就代表着去餐饮店上班的人？科教文化类密度高，难道就代表着去学校上班的老师？2.主要是餐饮、购物、公司等几类POI数量多，其他类别POI数量少，导致密度很低，如科教文化等，这使得科教文化等类别POI密度更难解释。3.POI对结果的影响个人感觉更多的来自于其空间分布。\n",
    "\n",
    "因此，在本研究中干脆去掉POI密度这些自变量不再考虑。"
   ]
  },
  {
   "cell_type": "code",
   "execution_count": null,
   "metadata": {
    "scrolled": true
   },
   "outputs": [],
   "source": [
    "# # 读取义乌poi\n",
    "# df_poi = pd.read_csv(\"./SrcCode/义乌POI.txt\",header=None,names=['ID','name','type','lng','lat'],dtype={'type':object},sep=';',encoding = 'utf-8')\n",
    "# df_poi.head(2)"
   ]
  },
  {
   "cell_type": "code",
   "execution_count": null,
   "metadata": {
    "scrolled": true
   },
   "outputs": [],
   "source": [
    "# # 需要对POI数据做一些预处理，否则效果不佳\n",
    "# # 将风景名胜(110000)，\n",
    "# df_poi = df_poi[(df_poi['type']=='050000')|(df_poi['type']=='060000')|(df_poi['type']=='070000')|(df_poi['type']=='170000')]\n",
    "# len(df_poi)"
   ]
  },
  {
   "cell_type": "code",
   "execution_count": null,
   "metadata": {
    "scrolled": false
   },
   "outputs": [],
   "source": [
    "# from scipy.spatial.distance import cdist\n",
    "# # 计算各类型poi密度，计算方式为某类型poi/缓冲区内总poi个数   \n",
    "# for item in ['050000','060000','070000','170000']:\n",
    "#     # 计算每个电警缓冲区范围内各个类型poi的数量\n",
    "#     tmp = df_poi[df_poi['type'] == item]\n",
    "#     X_mat = cdist(cam[['lng','lat']].values , tmp[['lng','lat']].values , metric=caldis)\n",
    "#     cam[item] = np.apply_along_axis(sma1, 1, X_mat)\n",
    "#     print(item,\"已经运行完毕.\")\n",
    "# cam.head(2)"
   ]
  },
  {
   "cell_type": "code",
   "execution_count": null,
   "metadata": {},
   "outputs": [],
   "source": [
    "# import gc\n",
    "# del X_mat\n",
    "# del tmp\n",
    "# gc.collect()"
   ]
  },
  {
   "cell_type": "code",
   "execution_count": null,
   "metadata": {
    "scrolled": true
   },
   "outputs": [],
   "source": [
    "# def calden(ser):\n",
    "#     # 目前已经计算出各个poi类型在各个电警缓冲区范围内的数量,接下来需要计算出各个poi类型的密度\n",
    "#     ser = list(ser)\n",
    "#     return sum(ser[3:])\n",
    "\n",
    "# cam['totnum'] = cam.apply(calden , axis=1)\n",
    "# cam.head(3)"
   ]
  },
  {
   "cell_type": "code",
   "execution_count": null,
   "metadata": {
    "scrolled": true
   },
   "outputs": [],
   "source": [
    "# for item in ['050000','060000','070000','170000']:\n",
    "#     cam[item] = cam[item] / cam['totnum']\n",
    "# cam.drop(columns=['totnum'] , inplace=True)\n",
    "# cam.head(2)"
   ]
  },
  {
   "cell_type": "code",
   "execution_count": null,
   "metadata": {
    "scrolled": true
   },
   "outputs": [],
   "source": [
    "# 观察是否存在一些电警周围poi密度均为0，即一些电警缓冲区范围内无poi存在\n",
    "# print(len(cam[cam['devdes'].isnull()]))\n",
    "# cam[cam['devdes'].isnull()]"
   ]
  },
  {
   "cell_type": "markdown",
   "metadata": {},
   "source": [
    "**经检查发现这些电警处于义乌市的边界或已经不再义乌市了（当然也存在几个数据有错误的情况）。该情况出现较少，在此不进行处理，后续与频繁模式表进行表联结，保存到本地后，在本地对该现象进行处理，对于不存在poi密度的车辆采取删除操作，防止对后续结论产生影响。**"
   ]
  },
  {
   "cell_type": "markdown",
   "metadata": {},
   "source": [
    "**由于POI相关变量效果不佳，且难以解释，因此之前将POI相关变量都删除了，相关代码也都注释掉了，现在在本地重新做了一些POI相关分析，并提取了一些相关的自变量，其结果的csv文件已经传送到服务器上了，后面的分析便把相关变量读取进来。**"
   ]
  },
  {
   "cell_type": "code",
   "execution_count": null,
   "metadata": {
    "scrolled": false
   },
   "outputs": [],
   "source": [
    "df_poi = pd.read_csv(\"各电警土地利用性质及香农熵.csv\",encoding='gbk')\n",
    "df_poi.info()"
   ]
  },
  {
   "cell_type": "code",
   "execution_count": null,
   "metadata": {},
   "outputs": [],
   "source": [
    "# df_poi和cam两张表中有许多重复的电警点位，需要去重，否则表联结时会使得重复的电警多次联结。\n",
    "print(len(cam),len(df_poi))\n",
    "cam = cam.drop_duplicates()\n",
    "df_poi = df_poi.drop_duplicates()\n",
    "print(len(cam),len(df_poi))\n",
    "# df_poi是读取的csv文件，csv文件保存时会保留7位小数，这导致电警经纬度和原来的有所出入，后面做表联结时产生问题，因此需要重新保留到三位和四位小数\n",
    "df_poi['lng'] = df_poi[['lng']].applymap(lambda x: round(x,3))  \n",
    "df_poi['lat'] = df_poi[['lat']].applymap(lambda x: round(x,4))\n",
    "# cam['lng'] = cam[['lng']].applymap(lambda x: round(x,3))\n",
    "# cam['lat'] = cam[['lat']].applymap(lambda x: round(x,4))"
   ]
  },
  {
   "cell_type": "code",
   "execution_count": null,
   "metadata": {
    "scrolled": false
   },
   "outputs": [],
   "source": [
    "cam = pd.merge(cam,df_poi,how='inner',on=['lng','lat'])\n",
    "cam.head(2)"
   ]
  },
  {
   "cell_type": "code",
   "execution_count": null,
   "metadata": {
    "scrolled": true
   },
   "outputs": [],
   "source": [
    "#将label转换成哑变量\n",
    "cam = pd.get_dummies(cam , columns = ['label'])\n",
    "cam.head(2)"
   ]
  },
  {
   "cell_type": "markdown",
   "metadata": {},
   "source": [
    "## 9.4 车辆模式表与电警密度及POI密度进行表联结\n",
    "\n",
    "1. 首先需要提取出AllStaPat中第一阶段频繁出行模式的首次被检测时间，首次被检测时间的提取方法为遍历第一阶段频繁出行模式中最长的pattern，然后从最长的pattern中提取出最早被检测点,找到了最早被检测点之后，在这个pattern中去找首次出行终点。\n",
    "2. 然后将提取出的首次被检测点、首次出行终点与电警密度和poi密度做表联结。"
   ]
  },
  {
   "cell_type": "code",
   "execution_count": null,
   "metadata": {
    "scrolled": true
   },
   "outputs": [],
   "source": [
    "def getdec(ser,t,co):\n",
    "    # 返回首/末次被检测地点的经度or纬度\n",
    "    if ser.name % 200000 == 0:\n",
    "        time_end = time.time()\n",
    "        consumedtime=time_end-time_begin\n",
    "        print(\"已处理到第{0}行，共耗时{1}分钟.\".format(ser.name , round(consumedtime/60,3)))\n",
    "    x = ser[0]\n",
    "    minind = -1\n",
    "    plen = len(x[-1])-3\n",
    "    if plen == 2:\n",
    "        for ind in range(len(x)):\n",
    "            if int(x[len(x)-1-ind][0][0]) < int(x[minind][0][0]):\n",
    "                minind = len(x)-1-ind\n",
    "        if t == 'first':\n",
    "            tmp = x[minind][0]  # 将最早出现点位所在的pattern赋给tmp\n",
    "            if co == 'lng':\n",
    "                return tmp[1]\n",
    "            elif co == 'lat':\n",
    "                return tmp[2]\n",
    "            else:\n",
    "                print(\"请输入lng或者lat.\")\n",
    "        elif t == 'last':\n",
    "            tmp = x[minind][1]  # 将最晚出现点位所在的pattern赋给tmp\n",
    "            if co == 'lng':\n",
    "                return tmp[1]\n",
    "            elif co == 'lat':\n",
    "                return tmp[2]\n",
    "            else:\n",
    "                print(\"请输入lng或者lat.\")\n",
    "        else:\n",
    "            print(\"请输入first或者last.\")\n",
    "    else:\n",
    "        for ind in range(len(x)):\n",
    "            if len(x[len(x)-1-ind]) -3 < plen:\n",
    "                break\n",
    "            if int(x[len(x)-1-ind][0][0]) < int(x[minind][0][0]):\n",
    "                minind = len(x)-1-ind\n",
    "        if t == 'first':\n",
    "            tmp = x[minind][0]  # 将最早出现点位所在的pattern赋给tmp\n",
    "            if co == 'lng':\n",
    "                return tmp[1]\n",
    "            elif co == 'lat':\n",
    "                return tmp[2]\n",
    "            else:\n",
    "                print(\"请输入lng或者lat.\")\n",
    "        elif t == 'last':\n",
    "            patlen = len(x[minind])-3\n",
    "            for i in range(patlen):\n",
    "                if int(x[minind][i][0]) - int(x[minind][0][0]) >= 1:\n",
    "                    break\n",
    "            \n",
    "            tmp = x[minind][i]  # 将首次出行终点所在的pattern赋给tmp\n",
    "            if co == 'lng':\n",
    "                return tmp[1]\n",
    "            elif co == 'lat':\n",
    "                return tmp[2]\n",
    "            else:\n",
    "                print(\"请输入lng或者lat.\")\n",
    "\n",
    "# 测试一下代码的正确性,已验证其正确性\n",
    "# AllStaPat[['freseq1']].iloc[:10,:].apply(getdec,t='last',co='lat',axis=1)\n",
    "             \n",
    "# 获得第一阶段频繁模式首次被检测点经纬度，首次出行终点经纬度\n",
    "time_begin = time.time()\n",
    "AllStaPat['firlng'] = AllStaPat[['freseq1']].apply(getdec,t='first',co='lng',axis=1)\n",
    "time_begin = time.time()\n",
    "AllStaPat['firlat'] = AllStaPat[['freseq1']].apply(getdec,t='first',co='lat',axis=1)\n",
    "time_begin = time.time()\n",
    "AllStaPat['lastlng'] = AllStaPat[['freseq1']].apply(getdec,t='last',co='lng',axis=1)\n",
    "time_begin = time.time()\n",
    "AllStaPat['lastlat'] = AllStaPat[['freseq1']].apply(getdec,t='last',co='lat',axis=1)\n",
    "AllStaPat.head(2)"
   ]
  },
  {
   "cell_type": "code",
   "execution_count": null,
   "metadata": {
    "scrolled": true
   },
   "outputs": [],
   "source": [
    "# 进行表联结\n",
    "AllStaPat = pd.merge(AllStaPat , cam[['lng','lat','dis','shan','label_0','label_1','label_2']] , how='inner',left_on=['firlng','firlat'],right_on=['lng','lat'])\n",
    "AllStaPat.drop(columns=['lng','lat'],inplace = True)\n",
    "AllStaPat.rename(columns={'dis':'firdis','shan':'firshan','label_0':'firlabel0','label_1':'firlabel1','label_2':'firlabel2'},inplace=True)\n",
    "AllStaPat = pd.merge(AllStaPat ,cam[['lng','lat','dis','shan','label_0','label_1','label_2']], how='inner',left_on=['lastlng','lastlat'],right_on=['lng','lat'])\n",
    "AllStaPat.drop(columns=['lng','lat'],inplace = True)\n",
    "AllStaPat.rename(columns={'dis':'lastdis','shan':'lastshan','label_0':'lastlabel0','label_1':'lastlabel1','label_2':'lastlabel2'},inplace=True)\n",
    "AllStaPat.head(2)"
   ]
  },
  {
   "cell_type": "code",
   "execution_count": null,
   "metadata": {
    "scrolled": true
   },
   "outputs": [],
   "source": [
    "len(AllStaPat)"
   ]
  },
  {
   "cell_type": "code",
   "execution_count": null,
   "metadata": {
    "scrolled": true
   },
   "outputs": [],
   "source": [
    "AllStaPat.info()"
   ]
  },
  {
   "cell_type": "markdown",
   "metadata": {},
   "source": [
    "## 9.5数据保存至本地"
   ]
  },
  {
   "cell_type": "code",
   "execution_count": null,
   "metadata": {},
   "outputs": [],
   "source": [
    "'''\n",
    "数据含义说明\n",
    "carnum:加密后的车牌\n",
    "freseq1:第一阶段频繁模式（直接读进python里是字符串格式，需要自行转化为list格式，使用eval函数可做到）\n",
    "regu1：第一阶段的regularity\n",
    "freseq2:第二阶段频繁模式\n",
    "regu2：第二阶段的regularity\n",
    "freseq4:第四阶段频繁模式\n",
    "regu4：第四阶段的regularity\n",
    "simi12:第一二阶段频繁出行模式的similarity\n",
    "simi14:第一四阶段频繁出行模式的similarity\n",
    "FirFreq:第一阶段平均每日被检测频次均值\n",
    "SecFreq：第二阶段平均每日被检测频次均值\n",
    "FouFreq：第四阶段平均每日被检测频次均值\n",
    "label:聚类后的簇标签，为0-2，各个簇的特性见我写的word\n",
    "count0-count5:一天划分为6个时间段，各个时间段车辆有出行的天数，该值可以为0-5\n",
    "freqavg0-5:各个时间段被检测频次均值\n",
    "freqstd0-5：各个时间段被检测频次标准差\n",
    "firlng:第一阶段频繁出行模式集合中最长的频繁出行模式中的首次被检测点经度\n",
    "firlat:第一阶段频繁出行模式集合中最长的频繁出行模式中的首次被检测点纬度\n",
    "lastlng:首次出行终点经度（首次出行终点概念详见word）\n",
    "lastlat:首次出行终点纬度（首次出行终点概念详见word）\n",
    "firdis：首次被检测点距离市中心的距离\n",
    "firshan:首次被检测点缓冲区范围内的香农熵\n",
    "firlabel0-firlabel2：首次被检测缓冲区类别\n",
    "lastdis：末次被检测点距离市中心的距离\n",
    "lastshan:末次被检测点缓冲区范围内的香农熵\n",
    "lastlabel0-lastlabel2：末次被检测缓冲区类别\n",
    "'''\n",
    "AllStaPat.to_csv(\"完整数据.csv\" , encoding = 'gbk') # 将提取好的出行特征的数据，包括频繁出行模式保存至本地\n",
    "AllStaPat[['regu1','count0','count1','count2','count3','count4','count5','freqavg0','freqavg1','freqavg2','freqavg3','freqavg4',\n",
    "           'freqavg5','freqstd0','freqstd1','freqstd2','freqstd3','freqstd4','freqstd5','firdis','firshan','firlabel0','firlabel1',\n",
    "           'firlabel2','lastdis','lastshan','lastlabel0','lastlabel1','lastlabel2','label']].to_csv('回归自变量及因变量.csv' , encoding='gbk')"
   ]
  },
  {
   "cell_type": "markdown",
   "metadata": {},
   "source": [
    "**AllStaPat变量已经被保存至本地，下面的代码实现的功能是从csv文件中读取这些变量，并将字符串格式转化为list格式。若无需从本地的csv读取数据，则下面的代码无需运行。暂时下面的代码先注释掉，需要使用时，则取消注释即可。**"
   ]
  },
  {
   "cell_type": "code",
   "execution_count": 2,
   "metadata": {
    "scrolled": true
   },
   "outputs": [
    {
     "data": {
      "text/html": [
       "<div>\n",
       "<style scoped>\n",
       "    .dataframe tbody tr th:only-of-type {\n",
       "        vertical-align: middle;\n",
       "    }\n",
       "\n",
       "    .dataframe tbody tr th {\n",
       "        vertical-align: top;\n",
       "    }\n",
       "\n",
       "    .dataframe thead th {\n",
       "        text-align: right;\n",
       "    }\n",
       "</style>\n",
       "<table border=\"1\" class=\"dataframe\">\n",
       "  <thead>\n",
       "    <tr style=\"text-align: right;\">\n",
       "      <th></th>\n",
       "      <th>carnum</th>\n",
       "      <th>freseq1</th>\n",
       "      <th>regu1</th>\n",
       "      <th>freseq2</th>\n",
       "      <th>regu2</th>\n",
       "      <th>freseq4</th>\n",
       "      <th>regu4</th>\n",
       "      <th>simi12</th>\n",
       "      <th>simi14</th>\n",
       "      <th>FirFreq</th>\n",
       "      <th>...</th>\n",
       "      <th>firdis</th>\n",
       "      <th>firshan</th>\n",
       "      <th>firlabel0</th>\n",
       "      <th>firlabel1</th>\n",
       "      <th>firlabel2</th>\n",
       "      <th>lastdis</th>\n",
       "      <th>lastshan</th>\n",
       "      <th>lastlabel0</th>\n",
       "      <th>lastlabel1</th>\n",
       "      <th>lastlabel2</th>\n",
       "    </tr>\n",
       "  </thead>\n",
       "  <tbody>\n",
       "    <tr>\n",
       "      <th>0</th>\n",
       "      <td>BD6DF8973E1ADE17F8F91BC3BBE22A0786</td>\n",
       "      <td>[[['08', 120.03, 29.2044], ['20', 120.028, 29....</td>\n",
       "      <td>0.387254</td>\n",
       "      <td>NaN</td>\n",
       "      <td>NaN</td>\n",
       "      <td>NaN</td>\n",
       "      <td>NaN</td>\n",
       "      <td>0.0</td>\n",
       "      <td>0.000000</td>\n",
       "      <td>2.8</td>\n",
       "      <td>...</td>\n",
       "      <td>13.378</td>\n",
       "      <td>0.950116</td>\n",
       "      <td>0</td>\n",
       "      <td>1</td>\n",
       "      <td>0</td>\n",
       "      <td>13.774</td>\n",
       "      <td>0.971018</td>\n",
       "      <td>0</td>\n",
       "      <td>1</td>\n",
       "      <td>0</td>\n",
       "    </tr>\n",
       "    <tr>\n",
       "      <th>1</th>\n",
       "      <td>浙G05B820D1068CA24D4CDC7D73E8CE9B26</td>\n",
       "      <td>[[['15', 120.03, 29.2045], ['15', 120.03, 29.2...</td>\n",
       "      <td>0.441640</td>\n",
       "      <td>NaN</td>\n",
       "      <td>NaN</td>\n",
       "      <td>[[['16', 120.03, 29.2044], ['16', 120.03, 29.2...</td>\n",
       "      <td>0.373218</td>\n",
       "      <td>0.0</td>\n",
       "      <td>0.819756</td>\n",
       "      <td>7.9</td>\n",
       "      <td>...</td>\n",
       "      <td>13.378</td>\n",
       "      <td>0.950116</td>\n",
       "      <td>0</td>\n",
       "      <td>1</td>\n",
       "      <td>0</td>\n",
       "      <td>13.774</td>\n",
       "      <td>0.971018</td>\n",
       "      <td>0</td>\n",
       "      <td>1</td>\n",
       "      <td>0</td>\n",
       "    </tr>\n",
       "  </tbody>\n",
       "</table>\n",
       "<p>2 rows × 45 columns</p>\n",
       "</div>"
      ],
      "text/plain": [
       "                               carnum  \\\n",
       "0  BD6DF8973E1ADE17F8F91BC3BBE22A0786   \n",
       "1  浙G05B820D1068CA24D4CDC7D73E8CE9B26   \n",
       "\n",
       "                                             freseq1     regu1 freseq2  regu2  \\\n",
       "0  [[['08', 120.03, 29.2044], ['20', 120.028, 29....  0.387254     NaN    NaN   \n",
       "1  [[['15', 120.03, 29.2045], ['15', 120.03, 29.2...  0.441640     NaN    NaN   \n",
       "\n",
       "                                             freseq4     regu4  simi12  \\\n",
       "0                                                NaN       NaN     0.0   \n",
       "1  [[['16', 120.03, 29.2044], ['16', 120.03, 29.2...  0.373218     0.0   \n",
       "\n",
       "     simi14  FirFreq  ...  firdis   firshan  firlabel0  firlabel1  firlabel2  \\\n",
       "0  0.000000      2.8  ...  13.378  0.950116          0          1          0   \n",
       "1  0.819756      7.9  ...  13.378  0.950116          0          1          0   \n",
       "\n",
       "   lastdis  lastshan  lastlabel0  lastlabel1  lastlabel2  \n",
       "0   13.774  0.971018           0           1           0  \n",
       "1   13.774  0.971018           0           1           0  \n",
       "\n",
       "[2 rows x 45 columns]"
      ]
     },
     "execution_count": 2,
     "metadata": {},
     "output_type": "execute_result"
    }
   ],
   "source": [
    "# 读取数据，并将字符串转化为python保存的格式\n",
    "AllStaPat = pd.read_csv(\"完整数据.csv\",encoding='gbk')\n",
    "AllStaPat.drop(columns=['Unnamed: 0'],inplace=True)\n",
    "AllStaPat.head(2)"
   ]
  },
  {
   "cell_type": "code",
   "execution_count": 3,
   "metadata": {},
   "outputs": [
    {
     "data": {
      "text/plain": [
       "list"
      ]
     },
     "execution_count": 3,
     "metadata": {},
     "output_type": "execute_result"
    }
   ],
   "source": [
    "def str2list(x):\n",
    "    if type(x) == float:\n",
    "        return x\n",
    "    else:\n",
    "        return eval(x)\n",
    "\n",
    "# 测试一下正确性\n",
    "type(AllStaPat[['freseq1']].iloc[0:3,:].applymap(str2list).iloc[0,0])"
   ]
  },
  {
   "cell_type": "code",
   "execution_count": 4,
   "metadata": {
    "scrolled": false
   },
   "outputs": [
    {
     "data": {
      "text/html": [
       "<div>\n",
       "<style scoped>\n",
       "    .dataframe tbody tr th:only-of-type {\n",
       "        vertical-align: middle;\n",
       "    }\n",
       "\n",
       "    .dataframe tbody tr th {\n",
       "        vertical-align: top;\n",
       "    }\n",
       "\n",
       "    .dataframe thead th {\n",
       "        text-align: right;\n",
       "    }\n",
       "</style>\n",
       "<table border=\"1\" class=\"dataframe\">\n",
       "  <thead>\n",
       "    <tr style=\"text-align: right;\">\n",
       "      <th></th>\n",
       "      <th>carnum</th>\n",
       "      <th>freseq1</th>\n",
       "      <th>regu1</th>\n",
       "      <th>freseq2</th>\n",
       "      <th>regu2</th>\n",
       "      <th>freseq4</th>\n",
       "      <th>regu4</th>\n",
       "      <th>simi12</th>\n",
       "      <th>simi14</th>\n",
       "      <th>FirFreq</th>\n",
       "      <th>...</th>\n",
       "      <th>firdis</th>\n",
       "      <th>firshan</th>\n",
       "      <th>firlabel0</th>\n",
       "      <th>firlabel1</th>\n",
       "      <th>firlabel2</th>\n",
       "      <th>lastdis</th>\n",
       "      <th>lastshan</th>\n",
       "      <th>lastlabel0</th>\n",
       "      <th>lastlabel1</th>\n",
       "      <th>lastlabel2</th>\n",
       "    </tr>\n",
       "  </thead>\n",
       "  <tbody>\n",
       "    <tr>\n",
       "      <th>0</th>\n",
       "      <td>BD6DF8973E1ADE17F8F91BC3BBE22A0786</td>\n",
       "      <td>[[[08, 120.03, 29.2044], [20, 120.028, 29.2007...</td>\n",
       "      <td>0.387254</td>\n",
       "      <td>NaN</td>\n",
       "      <td>NaN</td>\n",
       "      <td>NaN</td>\n",
       "      <td>NaN</td>\n",
       "      <td>0.0</td>\n",
       "      <td>0.000000</td>\n",
       "      <td>2.8</td>\n",
       "      <td>...</td>\n",
       "      <td>13.378</td>\n",
       "      <td>0.950116</td>\n",
       "      <td>0</td>\n",
       "      <td>1</td>\n",
       "      <td>0</td>\n",
       "      <td>13.774</td>\n",
       "      <td>0.971018</td>\n",
       "      <td>0</td>\n",
       "      <td>1</td>\n",
       "      <td>0</td>\n",
       "    </tr>\n",
       "    <tr>\n",
       "      <th>1</th>\n",
       "      <td>浙G05B820D1068CA24D4CDC7D73E8CE9B26</td>\n",
       "      <td>[[[15, 120.03, 29.2045], [15, 120.03, 29.2044]...</td>\n",
       "      <td>0.441640</td>\n",
       "      <td>NaN</td>\n",
       "      <td>NaN</td>\n",
       "      <td>[[[16, 120.03, 29.2044], [16, 120.03, 29.2044]...</td>\n",
       "      <td>0.373218</td>\n",
       "      <td>0.0</td>\n",
       "      <td>0.819756</td>\n",
       "      <td>7.9</td>\n",
       "      <td>...</td>\n",
       "      <td>13.378</td>\n",
       "      <td>0.950116</td>\n",
       "      <td>0</td>\n",
       "      <td>1</td>\n",
       "      <td>0</td>\n",
       "      <td>13.774</td>\n",
       "      <td>0.971018</td>\n",
       "      <td>0</td>\n",
       "      <td>1</td>\n",
       "      <td>0</td>\n",
       "    </tr>\n",
       "  </tbody>\n",
       "</table>\n",
       "<p>2 rows × 45 columns</p>\n",
       "</div>"
      ],
      "text/plain": [
       "                               carnum  \\\n",
       "0  BD6DF8973E1ADE17F8F91BC3BBE22A0786   \n",
       "1  浙G05B820D1068CA24D4CDC7D73E8CE9B26   \n",
       "\n",
       "                                             freseq1     regu1 freseq2  regu2  \\\n",
       "0  [[[08, 120.03, 29.2044], [20, 120.028, 29.2007...  0.387254     NaN    NaN   \n",
       "1  [[[15, 120.03, 29.2045], [15, 120.03, 29.2044]...  0.441640     NaN    NaN   \n",
       "\n",
       "                                             freseq4     regu4  simi12  \\\n",
       "0                                                NaN       NaN     0.0   \n",
       "1  [[[16, 120.03, 29.2044], [16, 120.03, 29.2044]...  0.373218     0.0   \n",
       "\n",
       "     simi14  FirFreq  ...  firdis   firshan  firlabel0  firlabel1  firlabel2  \\\n",
       "0  0.000000      2.8  ...  13.378  0.950116          0          1          0   \n",
       "1  0.819756      7.9  ...  13.378  0.950116          0          1          0   \n",
       "\n",
       "   lastdis  lastshan  lastlabel0  lastlabel1  lastlabel2  \n",
       "0   13.774  0.971018           0           1           0  \n",
       "1   13.774  0.971018           0           1           0  \n",
       "\n",
       "[2 rows x 45 columns]"
      ]
     },
     "execution_count": 4,
     "metadata": {},
     "output_type": "execute_result"
    }
   ],
   "source": [
    "AllStaPat['freseq1'] = AllStaPat[['freseq1']].applymap(str2list)\n",
    "AllStaPat['freseq2'] = AllStaPat[['freseq2']].applymap(str2list)\n",
    "# AllStaPat['freseq3'] = AllStaPat[['freseq3']].applymap(str2list)\n",
    "AllStaPat['freseq4'] = AllStaPat[['freseq4']].applymap(str2list)\n",
    "AllStaPat.head(2)"
   ]
  },
  {
   "cell_type": "markdown",
   "metadata": {},
   "source": [
    "## 9.6基于决策树模型的特征选择"
   ]
  },
  {
   "cell_type": "code",
   "execution_count": 5,
   "metadata": {
    "scrolled": true
   },
   "outputs": [
    {
     "data": {
      "text/plain": [
       "<matplotlib.axes._subplots.AxesSubplot at 0x7fd92f239790>"
      ]
     },
     "execution_count": 5,
     "metadata": {},
     "output_type": "execute_result"
    },
    {
     "data": {
      "image/png": "[encoded data removed]",
      "text/plain": [
       "<Figure size 4500x3600 with 2 Axes>"
      ]
     },
     "metadata": {
      "needs_background": "light"
     },
     "output_type": "display_data"
    }
   ],
   "source": [
    "# 绘制各个变量的相关性热力图\n",
    "plt.rcParams['figure.dpi'] = 300 #分辨率\n",
    "plt.subplots(figsize=(15, 12))\n",
    "sns.heatmap(AllStaPat[['regu1','count0','count1','count2','count3','count4','count5','freqavg0','freqavg1','freqavg2','freqavg3','freqavg4',\n",
    "           'freqavg5','freqstd0','freqstd1','freqstd2','freqstd3','freqstd4','freqstd5','firdis','firshan','firlabel0','firlabel1',\n",
    "           'firlabel2','lastdis','lastshan','lastlabel0','lastlabel1','lastlabel2']].corr(),\n",
    "           annot=False, vmax=1, square=True,cmap=\"YlGnBu\")"
   ]
  },
  {
   "cell_type": "code",
   "execution_count": 6,
   "metadata": {},
   "outputs": [
    {
     "data": {
      "text/html": [
       "<div>\n",
       "<style scoped>\n",
       "    .dataframe tbody tr th:only-of-type {\n",
       "        vertical-align: middle;\n",
       "    }\n",
       "\n",
       "    .dataframe tbody tr th {\n",
       "        vertical-align: top;\n",
       "    }\n",
       "\n",
       "    .dataframe thead th {\n",
       "        text-align: right;\n",
       "    }\n",
       "</style>\n",
       "<table border=\"1\" class=\"dataframe\">\n",
       "  <thead>\n",
       "    <tr style=\"text-align: right;\">\n",
       "      <th></th>\n",
       "      <th>regu1</th>\n",
       "      <th>count0</th>\n",
       "      <th>count1</th>\n",
       "      <th>count2</th>\n",
       "      <th>count3</th>\n",
       "      <th>count4</th>\n",
       "      <th>count5</th>\n",
       "      <th>freqavg0</th>\n",
       "      <th>freqavg1</th>\n",
       "      <th>freqavg2</th>\n",
       "      <th>...</th>\n",
       "      <th>firshan</th>\n",
       "      <th>firlabel0</th>\n",
       "      <th>firlabel1</th>\n",
       "      <th>firlabel2</th>\n",
       "      <th>lastdis</th>\n",
       "      <th>lastshan</th>\n",
       "      <th>lastlabel0</th>\n",
       "      <th>lastlabel1</th>\n",
       "      <th>lastlabel2</th>\n",
       "      <th>label</th>\n",
       "    </tr>\n",
       "  </thead>\n",
       "  <tbody>\n",
       "  </tbody>\n",
       "</table>\n",
       "<p>0 rows × 30 columns</p>\n",
       "</div>"
      ],
      "text/plain": [
       "Empty DataFrame\n",
       "Columns: [regu1, count0, count1, count2, count3, count4, count5, freqavg0, freqavg1, freqavg2, freqavg3, freqavg4, freqavg5, freqstd0, freqstd1, freqstd2, freqstd3, freqstd4, freqstd5, firdis, firshan, firlabel0, firlabel1, firlabel2, lastdis, lastshan, lastlabel0, lastlabel1, lastlabel2, label]\n",
       "Index: []\n",
       "\n",
       "[0 rows x 30 columns]"
      ]
     },
     "execution_count": 6,
     "metadata": {},
     "output_type": "execute_result"
    }
   ],
   "source": [
    "# 查看下存在NULL的行\n",
    "tmp = AllStaPat[['regu1','count0','count1','count2','count3','count4','count5','freqavg0','freqavg1','freqavg2','freqavg3','freqavg4',\n",
    "           'freqavg5','freqstd0','freqstd1','freqstd2','freqstd3','freqstd4','freqstd5','firdis','firshan','firlabel0','firlabel1',\n",
    "           'firlabel2','lastdis','lastshan','lastlabel0','lastlabel1','lastlabel2','label']]\n",
    "tmp[tmp.isnull().T.any()]"
   ]
  },
  {
   "cell_type": "code",
   "execution_count": 7,
   "metadata": {
    "scrolled": false
   },
   "outputs": [
    {
     "data": {
      "text/plain": [
       "array([[0.38725424, 0.        , 0.        , ..., 1.        , 0.        ,\n",
       "        0.        ],\n",
       "       [0.44163973, 0.        , 0.        , ..., 1.        , 0.        ,\n",
       "        1.        ],\n",
       "       [0.54791821, 0.        , 0.        , ..., 1.        , 0.        ,\n",
       "        0.        ],\n",
       "       ...,\n",
       "       [0.5241342 , 0.        , 0.        , ..., 0.        , 0.        ,\n",
       "        0.        ],\n",
       "       [0.28205175, 0.        , 0.        , ..., 0.        , 0.        ,\n",
       "        0.        ],\n",
       "       [0.61128748, 0.        , 0.        , ..., 0.        , 1.        ,\n",
       "        0.        ]])"
      ]
     },
     "execution_count": 7,
     "metadata": {},
     "output_type": "execute_result"
    }
   ],
   "source": [
    "# 离群值检测及处理\n",
    "# 使用马氏距离进行离群值检测\n",
    "# 将自变量转化为numpy.array\n",
    "indepvar = AllStaPat[['regu1','count0','count1','count2','count3','count4','count5','freqavg0','freqavg1','freqavg2','freqavg3','freqavg4',\n",
    "           'freqavg5','freqstd0','freqstd1','freqstd2','freqstd3','freqstd4','freqstd5','firdis','firshan','firlabel0','firlabel1',\n",
    "           'firlabel2','lastdis','lastshan','lastlabel0','lastlabel1','lastlabel2','label']]\n",
    "indepvar = indepvar.dropna()\n",
    "indepvar = indepvar.to_numpy()\n",
    "indepvar"
   ]
  },
  {
   "cell_type": "code",
   "execution_count": 8,
   "metadata": {},
   "outputs": [
    {
     "name": "stdout",
     "output_type": "stream",
     "text": [
      "存在NULL的行共有0行，删除NULL值后还存在245743行数据.\n"
     ]
    }
   ],
   "source": [
    "print(\"存在NULL的行共有{0}行，删除NULL值后还存在{1}行数据.\".format((len(AllStaPat) - len(indepvar)) , len(indepvar)))"
   ]
  },
  {
   "cell_type": "code",
   "execution_count": 9,
   "metadata": {},
   "outputs": [
    {
     "name": "stdout",
     "output_type": "stream",
     "text": [
      "已经处理到第0行.\n",
      "已经处理到第100000行.\n",
      "已经处理到第200000行.\n",
      "--- Index of Outliers ----\n",
      "离群值共有33381个数据点,占比为13.58%.\n",
      "(array([    10,     14,     15, ..., 245735, 245736, 245742]),)\n",
      "--- Observations found as outlier -----\n",
      "[[0.746      1.         1.         ... 1.         0.         1.        ]\n",
      " [0.55355156 9.         2.         ... 1.         0.         1.        ]\n",
      " [0.68957688 8.         0.         ... 1.         0.         2.        ]\n",
      " ...\n",
      " [0.42882428 0.         0.         ... 0.         1.         0.        ]\n",
      " [0.63580952 0.         5.         ... 0.         1.         1.        ]\n",
      " [0.61128748 0.         0.         ... 0.         1.         0.        ]]\n"
     ]
    }
   ],
   "source": [
    "# Covariance matrix\n",
    "covariance  = np.cov(indepvar[:,:-1] , rowvar=False)\n",
    "\n",
    "# Covariance matrix power of -1\n",
    "covariance_pm1 = np.linalg.matrix_power(covariance, -1)  #对协方差矩阵取逆\n",
    "\n",
    "# Center point\n",
    "centerpoint = np.mean(indepvar[:,:-1] , axis=0)\n",
    "\n",
    "# Distances between center point and other points\n",
    "distances = []\n",
    "for i, val in enumerate(indepvar[:,:-1]):\n",
    "    if i % 100000 == 0:\n",
    "        print(\"已经处理到第{0}行.\".format(i))\n",
    "    p1 = val\n",
    "    p2 = centerpoint\n",
    "    distance = (p1-p2).T.dot(covariance_pm1).dot(p1-p2)\n",
    "    distances.append(distance)\n",
    "distances = np.array(distances)\n",
    "\n",
    "# Cutoff (threshold) value from Chi-Sqaure Distribution for detecting outliers \n",
    "cutoff = chi2.ppf(0.95, indepvar[:,:-1].shape[1])\n",
    "\n",
    "# Index of outliers\n",
    "outlierIndexes = np.where(distances > cutoff )\n",
    "\n",
    "print('--- Index of Outliers ----')\n",
    "print(\"离群值共有{0}个数据点,占比为{1}%.\".format(len(outlierIndexes[0]) , round(len(outlierIndexes[0]) / len(indepvar)*100 , 2) ))\n",
    "print(outlierIndexes)\n",
    "# array([24, 35, 67, 81])\n",
    "\n",
    "print('--- Observations found as outlier -----')\n",
    "print(indepvar[ distances > cutoff , :])"
   ]
  },
  {
   "cell_type": "code",
   "execution_count": 10,
   "metadata": {},
   "outputs": [
    {
     "data": {
      "text/plain": [
       "212362"
      ]
     },
     "execution_count": 10,
     "metadata": {},
     "output_type": "execute_result"
    }
   ],
   "source": [
    "# 将上述的离群值删除\n",
    "indepvar = indepvar[ distances <= cutoff , :]\n",
    "len(indepvar)"
   ]
  },
  {
   "cell_type": "code",
   "execution_count": 11,
   "metadata": {
    "scrolled": false
   },
   "outputs": [
    {
     "name": "stdout",
     "output_type": "stream",
     "text": [
      "Counter({0.0: 102452, 1.0: 90038, 2.0: 19872})\n"
     ]
    }
   ],
   "source": [
    "from collections import Counter\n",
    "y_true = indepvar[:,-1]\n",
    "# 查看去除离群值后各个类别的样本数量\n",
    "print(Counter(y_true))"
   ]
  },
  {
   "cell_type": "code",
   "execution_count": 12,
   "metadata": {
    "scrolled": false
   },
   "outputs": [
    {
     "data": {
      "text/plain": [
       "array([[0.27173702, 0.        , 0.        , ..., 0.        , 1.        ,\n",
       "        0.        ],\n",
       "       [0.33637548, 0.        , 0.        , ..., 0.        , 1.        ,\n",
       "        0.        ],\n",
       "       [0.46268999, 0.        , 0.        , ..., 0.        , 1.        ,\n",
       "        0.        ],\n",
       "       ...,\n",
       "       [0.53025008, 0.125     , 0.        , ..., 0.        , 1.        ,\n",
       "        0.        ],\n",
       "       [0.43442212, 0.        , 0.        , ..., 1.        , 0.        ,\n",
       "        0.        ],\n",
       "       [0.14670135, 0.        , 0.        , ..., 1.        , 0.        ,\n",
       "        0.        ]])"
      ]
     },
     "execution_count": 12,
     "metadata": {},
     "output_type": "execute_result"
    }
   ],
   "source": [
    "# 将马氏距离过滤后的数据进行归一化处理\n",
    "from sklearn import preprocessing\n",
    "min_max_scaler = preprocessing.MinMaxScaler()\n",
    "indepvar_minmax = min_max_scaler.fit_transform(indepvar[:,:-1])\n",
    "indepvar_minmax"
   ]
  },
  {
   "cell_type": "code",
   "execution_count": 13,
   "metadata": {
    "scrolled": true
   },
   "outputs": [
    {
     "name": "stdout",
     "output_type": "stream",
     "text": [
      "Counter({0.0: 102452, 1.0: 90038, 2.0: 19872})\n"
     ]
    }
   ],
   "source": [
    "from collections import Counter\n",
    "# 查看样本类别分布，0和1样本比例3.24比1，属于类别不平衡数据\n",
    "print(Counter(y_true))"
   ]
  },
  {
   "cell_type": "code",
   "execution_count": 14,
   "metadata": {
    "scrolled": true
   },
   "outputs": [
    {
     "name": "stdout",
     "output_type": "stream",
     "text": [
      "Counter({0.0: 102452, 1.0: 102452, 2.0: 102452})\n"
     ]
    }
   ],
   "source": [
    "# 目前数据存在严重的样本不均衡问题，因此采用过采样（SMOTE）的手段，使得样本的各个label的数据量相当,然后做特征选择\n",
    "# 使用imlbearn库中上采样方法中的SMOTE接口\n",
    "from imblearn.over_sampling import BorderlineSMOTE\n",
    "# 定义SMOTE模型，random_state相当于随机数种子的作用\n",
    "smo = BorderlineSMOTE(random_state=0)\n",
    "indepvar_minmax_smo, y_smo = smo.fit_resample(indepvar_minmax , y_true)\n",
    "print(Counter(y_smo))"
   ]
  },
  {
   "cell_type": "markdown",
   "metadata": {},
   "source": [
    "RFECV链接：https://scikit-learn.org/stable/modules/generated/sklearn.feature_selection.RFECV.html#sklearn.feature_selection.RFECV"
   ]
  },
  {
   "cell_type": "code",
   "execution_count": 15,
   "metadata": {
    "scrolled": true
   },
   "outputs": [
    {
     "name": "stdout",
     "output_type": "stream",
     "text": [
      "[ True False False  True  True  True  True  True False  True  True  True\n",
      "  True False False  True  True  True  True  True  True False False False\n",
      "  True  True False False False]\n",
      "[ 1  2  7  1  1  1  1  1  4  1  1  1  1  9 12  1  1  1  1  1  1  3  6 10\n",
      "  1  1  5  8 11]\n"
     ]
    }
   ],
   "source": [
    "# 使用RFECV得到最优的特征数量\n",
    "# Feature ranking with recursive feature elimination and cross-validated selection of the best number of features.\n",
    "from sklearn.feature_selection import RFECV\n",
    "from sklearn.ensemble import RandomForestClassifier\n",
    "from sklearn.linear_model import LogisticRegression\n",
    "from sklearn import tree\n",
    "\n",
    "# estimator = LogisticRegression(penalty='none' ,random_state=0 ,class_weight='balanced',solver='sag')\n",
    "# estimator = RandomForestClassifier(n_estimators=100 , max_depth= 6 , random_state = 1 , class_weight = 'balanced')\n",
    "estimator = tree.DecisionTreeClassifier(max_depth = 50 , random_state=0,class_weight = 'balanced')\n",
    "selector = RFECV(estimator, step=1, cv=5 ,scoring='accuracy')\n",
    "selector = selector.fit(indepvar_minmax_smo , y_smo)\n",
    "print(selector.support_)\n",
    "print(selector.ranking_)"
   ]
  },
  {
   "cell_type": "code",
   "execution_count": 16,
   "metadata": {
    "scrolled": true
   },
   "outputs": [
    {
     "data": {
      "text/plain": [
       "array([0.43616542, 0.32690806, 0.35565961, 0.39613698, 0.40026244,\n",
       "       0.43017879, 0.47338942, 0.49486292, 0.52336739, 0.53236019,\n",
       "       0.53522008, 0.53761144, 0.54144738, 0.55453648, 0.5581707 ,\n",
       "       0.56014887, 0.5606662 , 0.56268014, 0.56129412, 0.56167479,\n",
       "       0.56153489, 0.56150235, 0.56184399, 0.56212379, 0.56232226,\n",
       "       0.5622279 , 0.56241987, 0.56255326, 0.56236455])"
      ]
     },
     "execution_count": 16,
     "metadata": {},
     "output_type": "execute_result"
    }
   ],
   "source": [
    "# 观察最优模型的得分\n",
    "# The cross-validation scores such that grid_scores_[i] corresponds to the CV score of the i-th subset of features.\n",
    "selector.grid_scores_"
   ]
  },
  {
   "cell_type": "code",
   "execution_count": 17,
   "metadata": {
    "scrolled": true
   },
   "outputs": [
    {
     "data": {
      "text/plain": [
       "[0, 3, 4, 5, 6, 7, 9, 10, 11, 12, 15, 16, 17, 18, 19, 20, 24, 25]"
      ]
     },
     "execution_count": 17,
     "metadata": {},
     "output_type": "execute_result"
    }
   ],
   "source": [
    "selectfeat = []  #筛选出来的特征的index\n",
    "for i in range(len(selector.ranking_)):\n",
    "    if selector.ranking_[i] == 1:\n",
    "        selectfeat.append(i)\n",
    "selectfeat"
   ]
  },
  {
   "cell_type": "markdown",
   "metadata": {},
   "source": [
    "## 9.7用筛选出的特征拟合随机森林模型观察效果\n",
    "\n",
    "这一部分仅仅是为了观察一下效果，并不作为分析内容放到论文里的，这一部分对应的分析已经放到本地跑了，详见本地文件夹“筛选出的特征进行随机森林模型拟合”。"
   ]
  },
  {
   "cell_type": "code",
   "execution_count": 18,
   "metadata": {},
   "outputs": [
    {
     "data": {
      "text/plain": [
       "(212362, 18)"
      ]
     },
     "execution_count": 18,
     "metadata": {},
     "output_type": "execute_result"
    }
   ],
   "source": [
    "# 得到特征筛选后的数据集\n",
    "indepvar_filt = indepvar[:,:-1][: , selectfeat ]\n",
    "indepvar_filt.shape"
   ]
  },
  {
   "cell_type": "code",
   "execution_count": 19,
   "metadata": {
    "scrolled": true
   },
   "outputs": [
    {
     "data": {
      "text/plain": [
       "array([[ 0.576     ,  5.        , 10.        , ...,  0.98246006,\n",
       "         6.918     ,  0.98437873],\n",
       "       [ 0.53820702, 10.        , 10.        , ...,  0.9701406 ,\n",
       "        12.663     ,  0.9925649 ],\n",
       "       [ 0.75733333, 10.        ,  4.        , ...,  0.95956639,\n",
       "         3.084     ,  0.96642487],\n",
       "       ...,\n",
       "       [ 0.8537037 ,  7.        ,  1.        , ...,  0.80922886,\n",
       "         2.033     ,  0.96621008],\n",
       "       [ 0.66319866, 10.        , 10.        , ...,  0.9883014 ,\n",
       "         2.771     ,  0.99566563],\n",
       "       [ 0.70177778,  4.        ,  8.        , ...,  0.97377962,\n",
       "         5.219     ,  0.98162391]])"
      ]
     },
     "execution_count": 19,
     "metadata": {},
     "output_type": "execute_result"
    }
   ],
   "source": [
    "# 将数据划分为训练集及测试集\n",
    "from sklearn.model_selection import train_test_split\n",
    "# x为数据集的feature，y为label.\n",
    "x_train, x_test, y_train, y_test = train_test_split(indepvar_filt , y_true, test_size = 0.3 ,random_state=0)\n",
    "x_train"
   ]
  },
  {
   "cell_type": "code",
   "execution_count": 20,
   "metadata": {
    "scrolled": false
   },
   "outputs": [
    {
     "data": {
      "text/plain": [
       "array([[0.34229351, 0.7       , 0.9       , ..., 0.86653259, 0.12878647,\n",
       "        0.91588314],\n",
       "       [0.54581795, 1.        , 0.3       , ..., 0.86092025, 0.35328006,\n",
       "        0.86040006],\n",
       "       [0.35256541, 0.3       , 0.8       , ..., 0.95459392, 0.02722542,\n",
       "        0.95285451],\n",
       "       ...,\n",
       "       [0.55666233, 1.        , 0.1       , ..., 0.90699656, 0.45567738,\n",
       "        0.83798993],\n",
       "       [0.81429314, 0.8       , 0.1       , ..., 0.9674519 , 0.12762498,\n",
       "        0.98780394],\n",
       "       [0.52352926, 0.7       , 0.8       , ..., 0.72793433, 0.34937744,\n",
       "        0.73750562]])"
      ]
     },
     "execution_count": 20,
     "metadata": {},
     "output_type": "execute_result"
    }
   ],
   "source": [
    "# 对数据做归一化处理\n",
    "min_max_scaler = preprocessing.MinMaxScaler()\n",
    "x_train_minmax = min_max_scaler.fit_transform(x_train)\n",
    "x_test_minmax = min_max_scaler.transform(x_test)\n",
    "x_test_minmax"
   ]
  },
  {
   "cell_type": "code",
   "execution_count": 21,
   "metadata": {
    "scrolled": true
   },
   "outputs": [
    {
     "name": "stdout",
     "output_type": "stream",
     "text": [
      "Counter({0.0: 71770, 1.0: 63051, 2.0: 13832})\n",
      "Counter({0.0: 71770, 1.0: 71770, 2.0: 71770})\n"
     ]
    }
   ],
   "source": [
    "# 目前数据存在严重的样本不均衡问题，因此采用过采样（SMOTE）的手段，使得样本的各个label的数据量相当,然后做特征选择\n",
    "# 定义SMOTE模型，random_state相当于随机数种子的作用\n",
    "print(Counter(y_train))\n",
    "smo = BorderlineSMOTE(random_state=0)\n",
    "x_train_minmax_smo, y_train_smo = smo.fit_resample(x_train_minmax , y_train)\n",
    "print(Counter(y_train_smo))"
   ]
  },
  {
   "cell_type": "code",
   "execution_count": 22,
   "metadata": {
    "scrolled": false
   },
   "outputs": [
    {
     "name": "stdout",
     "output_type": "stream",
     "text": [
      "[[20316  5299  5067]\n",
      " [10867  7843  8277]\n",
      " [ 2038  1317  2685]]\n",
      "<sklearn.metrics._plot.confusion_matrix.ConfusionMatrixDisplay object at 0x7fd92c745910>\n"
     ]
    },
    {
     "data": {
      "image/png": "[encoded data removed]",
      "text/plain": [
       "<Figure size 900x600 with 2 Axes>"
      ]
     },
     "metadata": {
      "needs_background": "light"
     },
     "output_type": "display_data"
    },
    {
     "data": {
      "text/plain": [
       "<Figure size 900x600 with 0 Axes>"
      ]
     },
     "metadata": {},
     "output_type": "display_data"
    }
   ],
   "source": [
    "# 训练随机森林模型，并观察随机森林模型效果\n",
    "from sklearn import metrics\n",
    "from sklearn.metrics import ConfusionMatrixDisplay, confusion_matrix\n",
    "\n",
    "# clf = LogisticRegression(penalty='none' ,random_state=0 ,class_weight='balanced',solver='sag')\n",
    "clf = RandomForestClassifier(n_estimators=500 , max_depth= 6 , random_state = 1 , class_weight = 'balanced')\n",
    "# clf = GradientBoostingClassifier(n_estimators=100 ,learning_rate=0.1 , max_depth = 12 , random_state = 1)\n",
    "clf.fit(x_train_minmax_smo ,y_train_smo)\n",
    "y_pred = clf.predict(x_test_minmax)\n",
    "# 绘制混淆矩阵\n",
    "cm = confusion_matrix(y_test , y_pred)\n",
    "print(cm)\n",
    "plt.rcParams['figure.dpi'] = 150\n",
    "cm_display = ConfusionMatrixDisplay(cm, display_labels = ['0', '1', '2'])\n",
    "print(cm_display)\n",
    "cm_display.plot(cmap = 'Greens')\n",
    "plt.show()\n",
    "plt.clf()"
   ]
  },
  {
   "cell_type": "code",
   "execution_count": 23,
   "metadata": {
    "scrolled": true
   },
   "outputs": [
    {
     "name": "stdout",
     "output_type": "stream",
     "text": [
      "accurancy: 0.4841388186912367\n",
      "macre-precision: 0.44049336772039177\n",
      "macro-recall: 0.465768340475218\n",
      "macro-f1-score: 0.4192116020996577\n"
     ]
    }
   ],
   "source": [
    "# 计算accurancy，macre-precision，macro-recall\n",
    "from sklearn.metrics import accuracy_score\n",
    "from sklearn.metrics import precision_score\n",
    "from sklearn.metrics import recall_score\n",
    "from sklearn.metrics import f1_score\n",
    "\n",
    "print('accurancy:' ,accuracy_score(y_test, y_pred , normalize=True))\n",
    "print('macre-precision:' ,precision_score(y_test, y_pred , average='macro')) # precision\n",
    "print('macro-recall:' , recall_score(y_test, y_pred , average='macro'))  # recall\n",
    "print('macro-f1-score:' , f1_score(y_test, y_pred , average='macro'))  # f1-score"
   ]
  },
  {
   "cell_type": "code",
   "execution_count": 24,
   "metadata": {
    "scrolled": true
   },
   "outputs": [
    {
     "data": {
      "text/plain": [
       "['regu1',\n",
       " 'count2',\n",
       " 'count3',\n",
       " 'count4',\n",
       " 'count5',\n",
       " 'freqavg0',\n",
       " 'freqavg2',\n",
       " 'freqavg3',\n",
       " 'freqavg4',\n",
       " 'freqavg5',\n",
       " 'freqstd2',\n",
       " 'freqstd3',\n",
       " 'freqstd4',\n",
       " 'freqstd5',\n",
       " 'firdis',\n",
       " 'firshan',\n",
       " 'lastdis',\n",
       " 'lastshan']"
      ]
     },
     "execution_count": 24,
     "metadata": {},
     "output_type": "execute_result"
    }
   ],
   "source": [
    "feat_list = ['regu1','count0','count1','count2','count3','count4','count5','freqavg0','freqavg1','freqavg2','freqavg3','freqavg4',\n",
    "           'freqavg5','freqstd0','freqstd1','freqstd2','freqstd3','freqstd4','freqstd5','firdis','firshan','firlabel0','firlabel1',\n",
    "           'firlabel2','lastdis','lastshan','lastlabel0','lastlabel1','lastlabel2']\n",
    "feat_name_list = []\n",
    "for i in range(len(selectfeat)):\n",
    "    feat_name_list.append(feat_list[selectfeat[i]])\n",
    "feat_name_list"
   ]
  },
  {
   "cell_type": "code",
   "execution_count": 25,
   "metadata": {
    "scrolled": true
   },
   "outputs": [
    {
     "data": {
      "image/png": "[encoded data removed]",
      "text/plain": [
       "<Figure size 600x600 with 1 Axes>"
      ]
     },
     "metadata": {
      "needs_background": "light"
     },
     "output_type": "display_data"
    }
   ],
   "source": [
    "# 特征重要性排序\n",
    "plt.figure(figsize=(4,4))\n",
    "plt.rcParams['figure.dpi'] = 150\n",
    "importance = list(clf.feature_importances_)\n",
    "Impt_Series = pd.Series(importance, index = feat_name_list)\n",
    "Impt_Series.sort_values(ascending = True).plot(kind='barh')\n",
    "plt.xlabel(\"Feature Importance\")\n",
    "plt.show()"
   ]
  },
  {
   "cell_type": "code",
   "execution_count": 26,
   "metadata": {},
   "outputs": [],
   "source": [
    "# 将特征重要性保存到本地去，在本地绘图\n",
    "tmp = pd.DataFrame(list(clf.feature_importances_), columns=['feature importance'])\n",
    "tmp['name'] = feat_name_list\n",
    "tmp.to_excel(\"特征重要性排序.xlsx\",encoding='gbk',index=False)"
   ]
  },
  {
   "cell_type": "code",
   "execution_count": 32,
   "metadata": {
    "scrolled": true
   },
   "outputs": [
    {
     "name": "stdout",
     "output_type": "stream",
     "text": [
      "              count2         count4         count3          regu1     label\n",
      "count  119666.000000  119666.000000  119666.000000  119666.000000  119666.0\n",
      "mean        7.584301       5.936983       5.883024       0.623419       0.0\n",
      "std         2.822121       3.062968       3.308084       0.163979       0.0\n",
      "min         0.000000       0.000000       0.000000       0.158620       0.0\n",
      "25%         6.000000       4.000000       3.000000       0.519225       0.0\n",
      "50%         9.000000       7.000000       7.000000       0.631994       0.0\n",
      "75%        10.000000       8.000000       9.000000       0.740625       0.0\n",
      "max        10.000000      10.000000      10.000000       1.000000       0.0\n",
      "              count2         count4         count3          regu1     label\n",
      "count  103133.000000  103133.000000  103133.000000  103133.000000  103133.0\n",
      "mean        8.601515       6.821299       6.234105       0.683062       1.0\n",
      "std         2.342358       3.010999       3.404044       0.137242       0.0\n",
      "min         0.000000       0.000000       0.000000       0.160465       1.0\n",
      "25%         8.000000       5.000000       3.000000       0.599714       1.0\n",
      "50%        10.000000       8.000000       7.000000       0.691238       1.0\n",
      "75%        10.000000       9.000000       9.000000       0.778048       1.0\n",
      "max        10.000000      10.000000      10.000000       1.000000       1.0\n",
      "             count2        count4        count3         regu1    label\n",
      "count  22944.000000  22944.000000  22944.000000  22944.000000  22944.0\n",
      "mean       8.805962      7.398971      5.284562      0.688994      2.0\n",
      "std        2.113752      2.770019      3.380071      0.145602      0.0\n",
      "min        0.000000      0.000000      0.000000      0.190013      2.0\n",
      "25%        9.000000      6.000000      2.000000      0.603990      2.0\n",
      "50%       10.000000      8.000000      5.000000      0.704667      2.0\n",
      "75%       10.000000     10.000000      9.000000      0.791619      2.0\n",
      "max       10.000000     10.000000     10.000000      1.000000      2.0\n"
     ]
    }
   ],
   "source": [
    "# 将最重要的4个特征在各个簇的均值求取出来\n",
    "print(AllStaPat[AllStaPat['label']==0][['count2','count4','count3','regu1','label']].describe())\n",
    "print(AllStaPat[AllStaPat['label']==1][['count2','count4','count3','regu1','label']].describe())\n",
    "print(AllStaPat[AllStaPat['label']==2][['count2','count4','count3','regu1','label']].describe())"
   ]
  },
  {
   "cell_type": "markdown",
   "metadata": {},
   "source": [
    "## 9.8 筛选出的特征的相关性分析"
   ]
  },
  {
   "cell_type": "code",
   "execution_count": 27,
   "metadata": {
    "scrolled": true
   },
   "outputs": [
    {
     "data": {
      "text/html": [
       "<div>\n",
       "<style scoped>\n",
       "    .dataframe tbody tr th:only-of-type {\n",
       "        vertical-align: middle;\n",
       "    }\n",
       "\n",
       "    .dataframe tbody tr th {\n",
       "        vertical-align: top;\n",
       "    }\n",
       "\n",
       "    .dataframe thead th {\n",
       "        text-align: right;\n",
       "    }\n",
       "</style>\n",
       "<table border=\"1\" class=\"dataframe\">\n",
       "  <thead>\n",
       "    <tr style=\"text-align: right;\">\n",
       "      <th></th>\n",
       "      <th>regu1</th>\n",
       "      <th>count2</th>\n",
       "      <th>count3</th>\n",
       "      <th>count4</th>\n",
       "      <th>count5</th>\n",
       "      <th>freqavg0</th>\n",
       "      <th>freqavg2</th>\n",
       "      <th>freqavg3</th>\n",
       "      <th>freqavg4</th>\n",
       "      <th>freqavg5</th>\n",
       "      <th>freqstd2</th>\n",
       "      <th>freqstd3</th>\n",
       "      <th>freqstd4</th>\n",
       "      <th>freqstd5</th>\n",
       "      <th>firdis</th>\n",
       "      <th>firshan</th>\n",
       "      <th>lastdis</th>\n",
       "      <th>lastshan</th>\n",
       "      <th>label</th>\n",
       "    </tr>\n",
       "  </thead>\n",
       "  <tbody>\n",
       "    <tr>\n",
       "      <th>0</th>\n",
       "      <td>0.387254</td>\n",
       "      <td>6.0</td>\n",
       "      <td>3.0</td>\n",
       "      <td>7.0</td>\n",
       "      <td>1.0</td>\n",
       "      <td>0.0</td>\n",
       "      <td>1.666667</td>\n",
       "      <td>2.333333</td>\n",
       "      <td>1.428571</td>\n",
       "      <td>1.0</td>\n",
       "      <td>0.745356</td>\n",
       "      <td>1.247219</td>\n",
       "      <td>0.494872</td>\n",
       "      <td>0.0</td>\n",
       "      <td>13.378</td>\n",
       "      <td>0.950116</td>\n",
       "      <td>13.774</td>\n",
       "      <td>0.971018</td>\n",
       "      <td>0.0</td>\n",
       "    </tr>\n",
       "    <tr>\n",
       "      <th>1</th>\n",
       "      <td>0.441640</td>\n",
       "      <td>9.0</td>\n",
       "      <td>7.0</td>\n",
       "      <td>1.0</td>\n",
       "      <td>0.0</td>\n",
       "      <td>0.0</td>\n",
       "      <td>4.111111</td>\n",
       "      <td>5.285714</td>\n",
       "      <td>5.000000</td>\n",
       "      <td>0.0</td>\n",
       "      <td>4.067334</td>\n",
       "      <td>5.897076</td>\n",
       "      <td>0.000000</td>\n",
       "      <td>0.0</td>\n",
       "      <td>13.378</td>\n",
       "      <td>0.950116</td>\n",
       "      <td>13.774</td>\n",
       "      <td>0.971018</td>\n",
       "      <td>1.0</td>\n",
       "    </tr>\n",
       "  </tbody>\n",
       "</table>\n",
       "</div>"
      ],
      "text/plain": [
       "      regu1  count2  count3  count4  count5  freqavg0  freqavg2  freqavg3  \\\n",
       "0  0.387254     6.0     3.0     7.0     1.0       0.0  1.666667  2.333333   \n",
       "1  0.441640     9.0     7.0     1.0     0.0       0.0  4.111111  5.285714   \n",
       "\n",
       "   freqavg4  freqavg5  freqstd2  freqstd3  freqstd4  freqstd5  firdis  \\\n",
       "0  1.428571       1.0  0.745356  1.247219  0.494872       0.0  13.378   \n",
       "1  5.000000       0.0  4.067334  5.897076  0.000000       0.0  13.378   \n",
       "\n",
       "    firshan  lastdis  lastshan  label  \n",
       "0  0.950116   13.774  0.971018    0.0  \n",
       "1  0.950116   13.774  0.971018    1.0  "
      ]
     },
     "execution_count": 27,
     "metadata": {},
     "output_type": "execute_result"
    }
   ],
   "source": [
    "# 拼接自变量和因变量\n",
    "tmp = pd.DataFrame(data=indepvar_filt , columns=feat_name_list)\n",
    "tmp['label']=y_true\n",
    "tmp.head(2)"
   ]
  },
  {
   "cell_type": "code",
   "execution_count": 28,
   "metadata": {
    "scrolled": true
   },
   "outputs": [
    {
     "data": {
      "text/plain": [
       "<matplotlib.axes._subplots.AxesSubplot at 0x7fd930fde210>"
      ]
     },
     "execution_count": 28,
     "metadata": {},
     "output_type": "execute_result"
    },
    {
     "data": {
      "image/png": "[encoded data removed]",
      "text/plain": [
       "<Figure size 4500x3600 with 2 Axes>"
      ]
     },
     "metadata": {
      "needs_background": "light"
     },
     "output_type": "display_data"
    }
   ],
   "source": [
    "# 绘制各个变量的相关性热力图\n",
    "plt.rcParams['figure.dpi'] = 300 #分辨率\n",
    "plt.subplots(figsize=(15, 12))\n",
    "sns.heatmap(tmp.iloc[:,:-1].corr(),\n",
    "           annot=False, vmax=1, square=True,cmap=\"YlGnBu\")"
   ]
  },
  {
   "cell_type": "code",
   "execution_count": 29,
   "metadata": {},
   "outputs": [],
   "source": [
    "# 保存自变量和因变量到本地\n",
    "tmp.to_csv('回归自变量及因变量(经过特征筛选).csv',encoding='gbk')"
   ]
  },
  {
   "cell_type": "code",
   "execution_count": 30,
   "metadata": {
    "scrolled": false
   },
   "outputs": [
    {
     "ename": "NameError",
     "evalue": "name 'conn' is not defined",
     "output_type": "error",
     "traceback": [
      "\u001b[0;31m---------------------------------------------------------------------------\u001b[0m",
      "\u001b[0;31mNameError\u001b[0m                                 Traceback (most recent call last)",
      "\u001b[0;32m<ipython-input-30-dac12af7ab20>\u001b[0m in \u001b[0;36m<module>\u001b[0;34m\u001b[0m\n\u001b[1;32m      1\u001b[0m \u001b[0;31m# 关闭数据库数据库连接\u001b[0m\u001b[0;34m\u001b[0m\u001b[0;34m\u001b[0m\u001b[0;34m\u001b[0m\u001b[0m\n\u001b[0;32m----> 2\u001b[0;31m \u001b[0mconn\u001b[0m\u001b[0;34m.\u001b[0m\u001b[0mclose\u001b[0m\u001b[0;34m(\u001b[0m\u001b[0;34m)\u001b[0m\u001b[0;34m\u001b[0m\u001b[0;34m\u001b[0m\u001b[0m\n\u001b[0m\u001b[1;32m      3\u001b[0m \u001b[0mprint\u001b[0m\u001b[0;34m(\u001b[0m\u001b[0;34m\"conn closed!\"\u001b[0m\u001b[0;34m)\u001b[0m\u001b[0;34m\u001b[0m\u001b[0;34m\u001b[0m\u001b[0m\n",
      "\u001b[0;31mNameError\u001b[0m: name 'conn' is not defined"
     ]
    }
   ],
   "source": [
    "# 关闭数据库数据库连接\n",
    "conn.close()\n",
    "print(\"conn closed!\")"
   ]
  }
 ],
 "metadata": {
  "kernelspec": {
   "display_name": "Python 3",
   "language": "python",
   "name": "python3"
  },
  "language_info": {
   "codemirror_mode": {
    "name": "ipython",
    "version": 3
   },
   "file_extension": ".py",
   "mimetype": "text/x-python",
   "name": "python",
   "nbconvert_exporter": "python",
   "pygments_lexer": "ipython3",
   "version": "3.7.9"
  }
 },
 "nbformat": 4,
 "nbformat_minor": 4
}
